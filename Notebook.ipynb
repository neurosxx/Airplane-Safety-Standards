{
  "cells": [
    {
      "cell_type": "markdown",
      "metadata": {
        "id": "view-in-github",
        "colab_type": "text"
      },
      "source": [
        "<a href=\"https://colab.research.google.com/github/neurosxx/Airplane-Safety-Standards/blob/main/Notebook.ipynb\" target=\"_parent\"><img src=\"https://colab.research.google.com/assets/colab-badge.svg\" alt=\"Open In Colab\"/></a>"
      ]
    },
    {
      "cell_type": "markdown",
      "source": [
        "# **Business Understanding**\n"
      ],
      "metadata": {
        "id": "eFzFDRRbr0SL"
      }
    },
    {
      "cell_type": "markdown",
      "metadata": {
        "id": "zSix_fMKF-DP"
      },
      "source": [
        "\n",
        "\n",
        "In this project, we will be looking at an aircraft dataset to provide  recommendations of which aircraft are the lowest risk for interested stakeholder.\n",
        "\n",
        "Commerical and private enterprises is a signifcant, global market.  According to Statista, global airline industry was 762.8 billion in 2023. While that is a a staggering number, there is also a signifcant overhead in obtaining private and commercial usage of aircrafts. Stakeholders of corporations require research on factors of aircraft safety to prioritize protection of products, employees, and efficiency.  As Pfizer is interested in delivering medical cargo, the following project will focus on recommendations on safest aircrafts."
      ]
    },
    {
      "cell_type": "markdown",
      "metadata": {
        "id": "FYcDjCx9GD-q"
      },
      "source": [
        "\n",
        "# **Data Understanding**"
      ]
    },
    {
      "cell_type": "markdown",
      "source": [
        "In order to obtain more information relevant to aircrafts, a dataset from https://www.kaggle.com/datasets/khsamaha/aviation-accident-database-synopses will be utilized.  \n",
        "\n",
        "  * The National Transportation Safety Board [NTSB] provides information from 1962 and more recent dates about civil aviation accident and chosen incidents within the United States, territories and possessions, and in international waters.\n",
        "\n",
        "  With use of the above dataset, we are able to determine factors of safety and their value to investors."
      ],
      "metadata": {
        "id": "V1JUaFUgrwDv"
      }
    },
    {
      "cell_type": "markdown",
      "source": [
        "# Data Preparation\n",
        "\n",
        "Before anything else, we are going to import packages required to analyze the data.  Next, we will incorporate our datasets and become familiarized with the data."
      ],
      "metadata": {
        "id": "8FwD7Sk9tazM"
      }
    },
    {
      "cell_type": "code",
      "execution_count": 1,
      "metadata": {
        "id": "Dg20AlDIRGHI"
      },
      "outputs": [],
      "source": [
        "# Providing necessary databases\n",
        "import pandas as pd\n",
        "import numpy as np\n",
        "import matplotlib.pyplot as plt\n",
        "import seaborn as sns\n",
        "import re\n",
        "pd.set_option('display.max_rows', None)\n"
      ]
    },
    {
      "cell_type": "code",
      "execution_count": 2,
      "metadata": {
        "colab": {
          "base_uri": "https://localhost:8080/"
        },
        "id": "cFN9IGS4RNUl",
        "outputId": "e88fbbd6-3cd7-43de-9a2d-498717401eb4"
      },
      "outputs": [
        {
          "output_type": "stream",
          "name": "stderr",
          "text": [
            "<ipython-input-2-3e8a288c3897>:1: DtypeWarning: Columns (6,7,28) have mixed types. Specify dtype option on import or set low_memory=False.\n",
            "  df = pd.read_csv('https://raw.githubusercontent.com/learn-co-curriculum/dsc-phase-1-project-v3/master/data/Aviation_Data.csv', encoding='latin-1')\n"
          ]
        }
      ],
      "source": [
        "df = pd.read_csv('https://raw.githubusercontent.com/learn-co-curriculum/dsc-phase-1-project-v3/master/data/Aviation_Data.csv', encoding='latin-1')\n",
        "pd.set_option('display.max_columns', None)"
      ]
    },
    {
      "cell_type": "code",
      "execution_count": 3,
      "metadata": {
        "id": "dR94-r8K4n5X"
      },
      "outputs": [],
      "source": [
        "df['Amateur.Built']\n",
        "# Don't purge column of amateur.build.\n",
        "# All crashes are tied to the Event.Id column .\n",
        "\n",
        "df.drop(df[df['Amateur.Built'] == 'Yes'].index, inplace=True)\n",
        "   # This column will be dropped due to company's desire to purchase safe airplanes. This column contains non-professionally built planes."
      ]
    },
    {
      "cell_type": "code",
      "execution_count": 4,
      "metadata": {
        "colab": {
          "base_uri": "https://localhost:8080/",
          "height": 303
        },
        "id": "fXc2YbWvrKju",
        "outputId": "c5e6eb95-a74f-4bc9-8a3d-ea4fcd6631bf"
      },
      "outputs": [
        {
          "output_type": "execute_result",
          "data": {
            "text/plain": [
              "Model\n",
              "152          2363\n",
              "172          1751\n",
              "172n         1160\n",
              "pa-28-140     925\n",
              "150           828\n",
              "172m          797\n",
              "Name: count, dtype: int64"
            ],
            "text/html": [
              "<div>\n",
              "<style scoped>\n",
              "    .dataframe tbody tr th:only-of-type {\n",
              "        vertical-align: middle;\n",
              "    }\n",
              "\n",
              "    .dataframe tbody tr th {\n",
              "        vertical-align: top;\n",
              "    }\n",
              "\n",
              "    .dataframe thead th {\n",
              "        text-align: right;\n",
              "    }\n",
              "</style>\n",
              "<table border=\"1\" class=\"dataframe\">\n",
              "  <thead>\n",
              "    <tr style=\"text-align: right;\">\n",
              "      <th></th>\n",
              "      <th>count</th>\n",
              "    </tr>\n",
              "    <tr>\n",
              "      <th>Model</th>\n",
              "      <th></th>\n",
              "    </tr>\n",
              "  </thead>\n",
              "  <tbody>\n",
              "    <tr>\n",
              "      <th>152</th>\n",
              "      <td>2363</td>\n",
              "    </tr>\n",
              "    <tr>\n",
              "      <th>172</th>\n",
              "      <td>1751</td>\n",
              "    </tr>\n",
              "    <tr>\n",
              "      <th>172n</th>\n",
              "      <td>1160</td>\n",
              "    </tr>\n",
              "    <tr>\n",
              "      <th>pa-28-140</th>\n",
              "      <td>925</td>\n",
              "    </tr>\n",
              "    <tr>\n",
              "      <th>150</th>\n",
              "      <td>828</td>\n",
              "    </tr>\n",
              "    <tr>\n",
              "      <th>172m</th>\n",
              "      <td>797</td>\n",
              "    </tr>\n",
              "  </tbody>\n",
              "</table>\n",
              "</div><br><label><b>dtype:</b> int64</label>"
            ]
          },
          "metadata": {},
          "execution_count": 4
        }
      ],
      "source": [
        "df['Model'].str.lower().value_counts().head(6)\n",
        "# Unreg = unregistered, Unk none = no registration, usaf = U.S. Airforce\n",
        "# This had high cardinality, but distrubtion was non uniform."
      ]
    },
    {
      "cell_type": "code",
      "execution_count": 5,
      "metadata": {
        "colab": {
          "base_uri": "https://localhost:8080/",
          "height": 492
        },
        "id": "jPVtJ3kKxAXj",
        "outputId": "8b6e9bd1-74d4-40cb-e88e-37ffbad48c82"
      },
      "outputs": [
        {
          "output_type": "execute_result",
          "data": {
            "text/plain": [
              "Broad.phase.of.flight\n",
              "landing        14507\n",
              "takeoff        11038\n",
              "cruise          9378\n",
              "maneuvering     7150\n",
              "approach        5852\n",
              "taxi            1877\n",
              "climb           1831\n",
              "descent         1764\n",
              "go-around       1273\n",
              "standing         923\n",
              "unknown          470\n",
              "other            102\n",
              "Name: count, dtype: int64"
            ],
            "text/html": [
              "<div>\n",
              "<style scoped>\n",
              "    .dataframe tbody tr th:only-of-type {\n",
              "        vertical-align: middle;\n",
              "    }\n",
              "\n",
              "    .dataframe tbody tr th {\n",
              "        vertical-align: top;\n",
              "    }\n",
              "\n",
              "    .dataframe thead th {\n",
              "        text-align: right;\n",
              "    }\n",
              "</style>\n",
              "<table border=\"1\" class=\"dataframe\">\n",
              "  <thead>\n",
              "    <tr style=\"text-align: right;\">\n",
              "      <th></th>\n",
              "      <th>count</th>\n",
              "    </tr>\n",
              "    <tr>\n",
              "      <th>Broad.phase.of.flight</th>\n",
              "      <th></th>\n",
              "    </tr>\n",
              "  </thead>\n",
              "  <tbody>\n",
              "    <tr>\n",
              "      <th>landing</th>\n",
              "      <td>14507</td>\n",
              "    </tr>\n",
              "    <tr>\n",
              "      <th>takeoff</th>\n",
              "      <td>11038</td>\n",
              "    </tr>\n",
              "    <tr>\n",
              "      <th>cruise</th>\n",
              "      <td>9378</td>\n",
              "    </tr>\n",
              "    <tr>\n",
              "      <th>maneuvering</th>\n",
              "      <td>7150</td>\n",
              "    </tr>\n",
              "    <tr>\n",
              "      <th>approach</th>\n",
              "      <td>5852</td>\n",
              "    </tr>\n",
              "    <tr>\n",
              "      <th>taxi</th>\n",
              "      <td>1877</td>\n",
              "    </tr>\n",
              "    <tr>\n",
              "      <th>climb</th>\n",
              "      <td>1831</td>\n",
              "    </tr>\n",
              "    <tr>\n",
              "      <th>descent</th>\n",
              "      <td>1764</td>\n",
              "    </tr>\n",
              "    <tr>\n",
              "      <th>go-around</th>\n",
              "      <td>1273</td>\n",
              "    </tr>\n",
              "    <tr>\n",
              "      <th>standing</th>\n",
              "      <td>923</td>\n",
              "    </tr>\n",
              "    <tr>\n",
              "      <th>unknown</th>\n",
              "      <td>470</td>\n",
              "    </tr>\n",
              "    <tr>\n",
              "      <th>other</th>\n",
              "      <td>102</td>\n",
              "    </tr>\n",
              "  </tbody>\n",
              "</table>\n",
              "</div><br><label><b>dtype:</b> int64</label>"
            ]
          },
          "metadata": {},
          "execution_count": 5
        }
      ],
      "source": [
        "df['Broad.phase.of.flight'].str.lower().value_counts()\n",
        "# Lowers values of the Broad.Phase.Flight column\n"
      ]
    },
    {
      "cell_type": "markdown",
      "metadata": {
        "id": "_6BkY-OyLrUv"
      },
      "source": []
    },
    {
      "cell_type": "code",
      "execution_count": 6,
      "metadata": {
        "id": "PjrXDVJHHEAE"
      },
      "outputs": [],
      "source": [
        "df.drop(df[df['Broad.phase.of.flight'] == 'Other'].index, inplace=True)\n",
        "df.drop(df[df['Broad.phase.of.flight'] == 'Unknown'].index, inplace=True)\n",
        "# The \"Other\" and \"Unknown\" rows within the \"Broad.phase.of.flight\" column are\n",
        "# dropped here due to not being able to do anything with these rows."
      ]
    },
    {
      "cell_type": "code",
      "execution_count": 7,
      "metadata": {
        "id": "eqJ3Ji_RsuAm"
      },
      "outputs": [],
      "source": [
        "df.dropna(subset=['Model'], inplace=True)"
      ]
    },
    {
      "cell_type": "code",
      "execution_count": 8,
      "metadata": {
        "id": "basHRRBLjZkd"
      },
      "outputs": [],
      "source": [
        "df.dropna(subset=['Model'], inplace=True)"
      ]
    },
    {
      "cell_type": "code",
      "execution_count": 9,
      "metadata": {
        "id": "-Nn0_uh7meiF"
      },
      "outputs": [],
      "source": [
        "def lower_model(df):\n",
        "  df['Model'] = df['Model'].str.lower()\n",
        "  return df"
      ]
    },
    {
      "cell_type": "code",
      "execution_count": 10,
      "metadata": {
        "colab": {
          "base_uri": "https://localhost:8080/"
        },
        "id": "OvgTKNoWs2IG",
        "outputId": "e92097af-9bcd-4350-e902-7262cd0a323e"
      },
      "outputs": [
        {
          "output_type": "execute_result",
          "data": {
            "text/plain": [
              "array(['Stinson', 'Cessna', 'Rockwell', ..., 'JAMES R DERNOVSEK',\n",
              "       'ORLICAN S R O', 'ROYSE RALPH L'], dtype=object)"
            ]
          },
          "metadata": {},
          "execution_count": 10
        }
      ],
      "source": [
        "(df['Make'].str.lower().value_counts()[:50]/len(df)).sum()\n",
        "# pareto distribution. due to A few unique values provides the data.\n",
        "df['Make'].unique()"
      ]
    },
    {
      "cell_type": "code",
      "execution_count": 11,
      "metadata": {
        "id": "xGKyhNxlM2nR"
      },
      "outputs": [],
      "source": [
        "def Cat_distribution(col, cat):\n",
        "  \"\"\"\n",
        "\n",
        "  \"\"\"\n",
        "  return (df[col].str.lower().value_counts()[:cat]/len(df)).sum()\n",
        "# Cat = categorical, cat represents index\n",
        "# what percentage of rows are represented in this # of categories."
      ]
    },
    {
      "cell_type": "code",
      "execution_count": 12,
      "metadata": {
        "colab": {
          "base_uri": "https://localhost:8080/"
        },
        "id": "m4fSAZX2OXZS",
        "outputId": "391793a7-f9e5-47ed-ed19-220155f3fee8"
      },
      "outputs": [
        {
          "output_type": "execute_result",
          "data": {
            "text/plain": [
              "0.7259473756784878"
            ]
          },
          "metadata": {},
          "execution_count": 12
        }
      ],
      "source": [
        "Cat_distribution('Make', 10) # Pareto distribution."
      ]
    },
    {
      "cell_type": "code",
      "execution_count": 13,
      "metadata": {
        "colab": {
          "base_uri": "https://localhost:8080/"
        },
        "id": "7tHilPH8n09B",
        "outputId": "5c41b8b8-e742-405e-d260-f0c3eb08a032"
      },
      "outputs": [
        {
          "output_type": "execute_result",
          "data": {
            "text/plain": [
              "0.02290248580346734"
            ]
          },
          "metadata": {},
          "execution_count": 13
        }
      ],
      "source": [
        "Cat_distribution('Event.Id', 1000)\n",
        " # This one has high cardinality, Not pareto distribution."
      ]
    },
    {
      "cell_type": "code",
      "execution_count": 14,
      "metadata": {
        "colab": {
          "base_uri": "https://localhost:8080/"
        },
        "id": "HsjkBbRIobIT",
        "outputId": "f61c02ab-b2fd-431f-ddc3-feed52cc9129"
      },
      "outputs": [
        {
          "output_type": "execute_result",
          "data": {
            "text/plain": [
              "1.0"
            ]
          },
          "metadata": {},
          "execution_count": 14
        }
      ],
      "source": [
        "Cat_distribution('Investigation.Type', 10)\n",
        "# Low cardinality, pareto distribution"
      ]
    },
    {
      "cell_type": "code",
      "execution_count": 15,
      "metadata": {
        "colab": {
          "base_uri": "https://localhost:8080/"
        },
        "id": "u02wFnouosKA",
        "outputId": "fbe746e6-abfc-4891-bd9e-68fd95795e87"
      },
      "outputs": [
        {
          "output_type": "execute_result",
          "data": {
            "text/plain": [
              "0.00025071139357928123"
            ]
          },
          "metadata": {},
          "execution_count": 15
        }
      ],
      "source": [
        "Cat_distribution('Accident.Number', 10)"
      ]
    },
    {
      "cell_type": "code",
      "execution_count": 16,
      "metadata": {
        "colab": {
          "base_uri": "https://localhost:8080/"
        },
        "id": "7FSQhf2uWLqx",
        "outputId": "dccb4e50-d502-40a0-9a76-c5cfd7584b80"
      },
      "outputs": [
        {
          "output_type": "stream",
          "name": "stdout",
          "text": [
            "Event.Id 78946\n",
            "Investigation.Type 2\n",
            "Accident.Number 79749\n",
            "Event.Date 14688\n",
            "Location 20773\n",
            "Country 213\n",
            "Latitude 22945\n",
            "Longitude 24214\n",
            "Airport.Code 9787\n",
            "Airport.Name 20052\n",
            "Injury.Severity 108\n",
            "Aircraft.damage 4\n",
            "Aircraft.Category 14\n",
            "Registration.Number 71364\n",
            "Make 1912\n",
            "Model 8483\n",
            "Amateur.Built 1\n",
            "Engine.Type 12\n",
            "FAR.Description 31\n",
            "Schedule 3\n",
            "Purpose.of.flight 26\n",
            "Air.carrier 12264\n",
            "Weather.Condition 3\n",
            "Broad.phase.of.flight 10\n",
            "Report.Status 14751\n",
            "Publication.Date 2855\n"
          ]
        }
      ],
      "source": [
        "for col in df.columns:\n",
        "  if df[col].dtype == 'object':\n",
        "    print(col, len(df[col].str.lower().value_counts()))\n",
        "\n",
        "  # This provides cardinality, seperate below by high & low cardinality. Then put in the\n",
        "  # LOw cardinality & useful / related to business problem, keep.\n",
        "  # If distribution matters = High Cardinality,\n",
        "  # *** IS THE COLUMN useful? = If Not kick it out."
      ]
    },
    {
      "cell_type": "code",
      "execution_count": 17,
      "metadata": {
        "colab": {
          "base_uri": "https://localhost:8080/"
        },
        "id": "iE9xyuyTnA5C",
        "outputId": "812d60ad-d3c5-4ee0-ae89-a1515a20406b"
      },
      "outputs": [
        {
          "output_type": "stream",
          "name": "stdout",
          "text": [
            "Event.Id 0.0005264939265164904\n",
            "Investigation.Type 1.0\n",
            "Accident.Number 0.0005014227871585625\n",
            "Event.Date 0.005365223822596616\n",
            "Location 0.05021749213393003\n",
            "Country 0.9661790330061549\n",
            "Latitude 0.0033093903952465123\n",
            "Longitude 0.0033595326739623687\n",
            "Airport.Code 0.04253318792072505\n",
            "Airport.Name 0.02391786694746343\n",
            "Injury.Severity 0.9860479109473128\n",
            "Aircraft.damage 0.9607009890564476\n",
            "Aircraft.Category 0.35914407130232034\n",
            "Registration.Number 0.00299600115327241\n",
            "Make 0.7943539794165946\n",
            "Model 0.1939503340729319\n",
            "Amateur.Built 0.9987464430321036\n",
            "Engine.Type 0.9160618254296566\n",
            "FAR.Description 0.35503240444762013\n",
            "Schedule 0.15328494603437254\n",
            "Purpose.of.flight 0.922580321662718\n",
            "Air.carrier 0.010567485239366703\n",
            "Weather.Condition 0.9454828074661853\n",
            "Broad.phase.of.flight 0.6967896406052173\n",
            "Report.Status 0.7297707244305718\n",
            "Publication.Date 0.2679854085968936\n"
          ]
        }
      ],
      "source": [
        "cat = 20\n",
        "for col in df.columns:  # Understanding the distribution of values\n",
        "    if df[col].dtype == 'object':\n",
        "      result = (df[col].str.lower().value_counts()[:cat]/len(df)).sum()\n",
        "      print(col, result)\n",
        "\n",
        "# Calculated only objects here. # Remember the cat = 20 provides the index to include, so example the top 20 cover most of the distribution ** double check wit\n"
      ]
    },
    {
      "cell_type": "code",
      "execution_count": 18,
      "metadata": {
        "colab": {
          "base_uri": "https://localhost:8080/"
        },
        "id": "ajJBTKQD1pLN",
        "outputId": "bf1bfc61-2103-455e-8d39-c987651cad3c"
      },
      "outputs": [
        {
          "output_type": "stream",
          "name": "stdout",
          "text": [
            "Number.of.Engines 0.9282087924485729\n",
            "Total.Fatal.Injuries 0.8724255073771826\n",
            "Total.Serious.Injuries 0.8609930678299674\n",
            "Total.Minor.Injuries 0.8676118486204606\n",
            "Total.Uninjured 0.9386007797124342\n"
          ]
        }
      ],
      "source": [
        "for col in df.columns:\n",
        "   if df[col].dtype == \"float64\":\n",
        "      result = (df[col].value_counts()/len(df)).sum()\n",
        "      print(col, result)\n",
        "# float64 is goal to obtain from this 'for loop'."
      ]
    },
    {
      "cell_type": "code",
      "execution_count": 19,
      "metadata": {
        "colab": {
          "base_uri": "https://localhost:8080/"
        },
        "id": "3_f7_1jgExbE",
        "outputId": "278c0ab6-8dd9-4290-9826-250ca43b4a85"
      },
      "outputs": [
        {
          "output_type": "stream",
          "name": "stdout",
          "text": [
            "Event.Id 78946\n",
            "Investigation.Type 2\n",
            "Accident.Number 79749\n",
            "Event.Date 14688\n",
            "Location 20773\n",
            "Country 213\n",
            "Latitude 22945\n",
            "Longitude 24214\n",
            "Airport.Code 9787\n",
            "Airport.Name 20052\n",
            "Injury.Severity 108\n",
            "Aircraft.damage 4\n",
            "Aircraft.Category 14\n",
            "Registration.Number 71364\n",
            "Make 1912\n",
            "Model 8483\n",
            "Amateur.Built 1\n",
            "Engine.Type 12\n",
            "FAR.Description 31\n",
            "Schedule 3\n",
            "Purpose.of.flight 26\n",
            "Air.carrier 12264\n",
            "Weather.Condition 3\n",
            "Broad.phase.of.flight 10\n",
            "Report.Status 14751\n",
            "Publication.Date 2855\n"
          ]
        }
      ],
      "source": [
        "for col in df.columns:\n",
        "  if df[col].dtype == 'object':\n",
        "    print(col, len(df[col].str.lower().value_counts()))\n",
        "\n",
        "  # This provides cardinality, seperate below by high & low cardinality. Then put in the\n",
        "  # Low cardianlity & useful / related to business problem, keep.\n",
        "  # If distribution matters = High Cardinality,"
      ]
    },
    {
      "cell_type": "code",
      "execution_count": 20,
      "metadata": {
        "id": "51Gsk8iGEGY5"
      },
      "outputs": [],
      "source": [
        "# Dropped These columns, doesn't seem relevant to business problem.\n",
        "df.drop(columns =['FAR.Description', 'Location', 'Country',\n",
        "                  'Latitude', 'Longitude', 'Airport.Code',\n",
        "                  'Airport.Name', 'Schedule', 'Purpose.of.flight',\n",
        "                  'Air.carrier', 'Injury.Severity'],\n",
        "        inplace=True)"
      ]
    },
    {
      "cell_type": "code",
      "execution_count": 21,
      "metadata": {
        "colab": {
          "base_uri": "https://localhost:8080/"
        },
        "id": "va3nMJTps-aT",
        "outputId": "d15f873f-d044-45f4-92db-708c94ca60a7"
      },
      "outputs": [
        {
          "output_type": "stream",
          "name": "stdout",
          "text": [
            "Event.Id 0\n",
            "Investigation.Type 0\n",
            "Accident.Number 0\n",
            "Event.Date 0\n",
            "Aircraft.damage 3135\n",
            "Aircraft.Category 51123\n",
            "Registration.Number 1258\n",
            "Make 6\n",
            "Model 0\n",
            "Amateur.Built 100\n",
            "Engine.Type 6696\n",
            "Weather.Condition 4349\n",
            "Broad.phase.of.flight 24188\n",
            "Report.Status 5993\n",
            "Publication.Date 13940\n"
          ]
        }
      ],
      "source": [
        "for col in df.columns:\n",
        "  if df[col].dtype == 'object':\n",
        "    print(col, df[col].isna().sum())\n",
        "  # This for loop provides amount of null values in current columns."
      ]
    },
    {
      "cell_type": "code",
      "execution_count": 22,
      "metadata": {
        "id": "-pJDuRmxnBYY"
      },
      "outputs": [],
      "source": [
        "df.dropna(subset=['Aircraft.damage', 'Registration.Number',\n",
        "                  'Make', 'Amateur.Built','Engine.Type',\n",
        "                  'Weather.Condition', 'Broad.phase.of.flight',\n",
        "                  'Number.of.Engines', 'Aircraft.Category',\n",
        "                  'Total.Fatal.Injuries', 'Total.Serious.Injuries',\n",
        "                  'Total.Minor.Injuries', 'Total.Uninjured'], inplace=True)\n",
        "# Drops null values of above columns"
      ]
    },
    {
      "cell_type": "code",
      "execution_count": 23,
      "metadata": {
        "id": "8GOPO1PnnF8c"
      },
      "outputs": [],
      "source": [
        "df.drop(df[df['Aircraft.damage'] == 'Unknown'].index, inplace=True)"
      ]
    },
    {
      "cell_type": "code",
      "execution_count": 24,
      "metadata": {
        "id": "qMAcQtoln-o2"
      },
      "outputs": [],
      "source": [
        "df.drop(df[df['Aircraft.Category'] == 'Unknown'].index, inplace=True)"
      ]
    },
    {
      "cell_type": "code",
      "execution_count": 25,
      "metadata": {
        "id": "XM7RsViV5doR"
      },
      "outputs": [],
      "source": [
        "df.drop(df[df['Engine.Type'] == 'Unknown'].index, inplace=True)"
      ]
    },
    {
      "cell_type": "code",
      "execution_count": 26,
      "metadata": {
        "id": "2yEBEcE55_v7"
      },
      "outputs": [],
      "source": [
        "df.drop(df[df['Engine.Type'] == 'NONE'].index, inplace=True)"
      ]
    },
    {
      "cell_type": "code",
      "execution_count": 27,
      "metadata": {
        "id": "qG5LLcBU9oEC"
      },
      "outputs": [],
      "source": [
        "df.drop(df[df['Weather.Condition'] == 'UNK'].index, inplace=True)"
      ]
    },
    {
      "cell_type": "code",
      "execution_count": 28,
      "metadata": {
        "id": "WgyUh5oX9yvh"
      },
      "outputs": [],
      "source": [
        "df.drop(df[df['Weather.Condition'] == 'Unk'].index, inplace=True)"
      ]
    },
    {
      "cell_type": "code",
      "execution_count": 29,
      "metadata": {
        "colab": {
          "base_uri": "https://localhost:8080/"
        },
        "id": "ALt7ApFU-dbk",
        "outputId": "bb9f3bca-c3d1-41e9-f83a-2b800389821c"
      },
      "outputs": [
        {
          "output_type": "execute_result",
          "data": {
            "text/plain": [
              "0.0"
            ]
          },
          "metadata": {},
          "execution_count": 29
        }
      ],
      "source": [
        "df['Broad.phase.of.flight'].isna().sum()/len(df['Broad.phase.of.flight'])"
      ]
    },
    {
      "cell_type": "code",
      "execution_count": 30,
      "metadata": {
        "id": "eHAYfylD-30s"
      },
      "outputs": [],
      "source": [
        "df.dropna(subset=['Broad.phase.of.flight'], inplace=True)"
      ]
    },
    {
      "cell_type": "code",
      "execution_count": 31,
      "metadata": {
        "colab": {
          "base_uri": "https://localhost:8080/"
        },
        "id": "ReD7VOkq_EyN",
        "outputId": "a2bf7efc-6869-4c1f-9990-5b2e7ba0cb9c"
      },
      "outputs": [
        {
          "output_type": "execute_result",
          "data": {
            "text/plain": [
              "0.0"
            ]
          },
          "metadata": {},
          "execution_count": 31
        }
      ],
      "source": [
        "df['Publication.Date'].isna().sum()/len(df['Publication.Date'])"
      ]
    },
    {
      "cell_type": "code",
      "execution_count": 32,
      "metadata": {
        "id": "hYvq6ZaeAru4"
      },
      "outputs": [],
      "source": [
        "# df.head(20)"
      ]
    },
    {
      "cell_type": "code",
      "execution_count": 33,
      "metadata": {
        "id": "ijWk4aEY_XlF"
      },
      "outputs": [],
      "source": [
        "df.dropna(subset=['Publication.Date'], inplace=True)"
      ]
    },
    {
      "cell_type": "code",
      "execution_count": 34,
      "metadata": {
        "colab": {
          "base_uri": "https://localhost:8080/"
        },
        "id": "2TfkDR243Hkw",
        "outputId": "d76b7a1c-aec6-471a-abf1-f2cfdd671d58"
      },
      "outputs": [
        {
          "output_type": "stream",
          "name": "stdout",
          "text": [
            "Column \"Event.Id\" has 0 missing values.\n",
            "Column \"Investigation.Type\" has 0 missing values.\n",
            "Column \"Accident.Number\" has 0 missing values.\n",
            "Column \"Event.Date\" has 0 missing values.\n",
            "Column \"Aircraft.damage\" has 0 missing values.\n",
            "Column \"Aircraft.Category\" has 0 missing values.\n",
            "Column \"Registration.Number\" has 0 missing values.\n",
            "Column \"Make\" has 0 missing values.\n",
            "Column \"Model\" has 0 missing values.\n",
            "Column \"Amateur.Built\" has 0 missing values.\n",
            "Column \"Engine.Type\" has 0 missing values.\n",
            "Column \"Weather.Condition\" has 0 missing values.\n",
            "Column \"Broad.phase.of.flight\" has 0 missing values.\n",
            "Column \"Report.Status\" has 0 missing values.\n",
            "Column \"Publication.Date\" has 0 missing values.\n"
          ]
        }
      ],
      "source": [
        "for col in df.columns:\n",
        "  if df[col].dtype == 'object':\n",
        "    missing_count = (df[col].isna().sum())\n",
        "    print(f'Column \"{col}\" has {missing_count} missing values.')\n",
        "\n",
        "  # This for loop provides amount of null values in current columns."
      ]
    },
    {
      "cell_type": "code",
      "execution_count": 35,
      "metadata": {
        "id": "E_EyKAhg1k9u"
      },
      "outputs": [],
      "source": [
        "# for col in df.columns:\n",
        "#   if df[col].dtype == 'object':\n",
        "#     df[col].info()\n",
        "#     print(col)"
      ]
    },
    {
      "cell_type": "code",
      "execution_count": 36,
      "metadata": {
        "id": "wpsUKGVzfRIQ"
      },
      "outputs": [],
      "source": [
        "column = df\n",
        "threshold = 0.95"
      ]
    },
    {
      "cell_type": "code",
      "execution_count": 37,
      "metadata": {
        "id": "PKswDVsvQ6YL"
      },
      "outputs": [],
      "source": [
        "def threshold_func():\n",
        "  if threshold >= 0.95:\n",
        "    return column\n",
        "  # Build it step by step.\n",
        "  #With this function I want to sort columns by low cardinality and\n"
      ]
    },
    {
      "cell_type": "code",
      "execution_count": 38,
      "metadata": {
        "id": "unbDDANBNkpE"
      },
      "outputs": [],
      "source": [
        "df['Aircraft.Category'] = df['Aircraft.Category'].apply(lambda x: x if x == \"Airplane\" else (\"Helicopter\" if x == \"Helicopter\" else None))"
      ]
    },
    {
      "cell_type": "code",
      "execution_count": 39,
      "metadata": {
        "colab": {
          "base_uri": "https://localhost:8080/",
          "height": 178
        },
        "id": "uRM_07dXagJi",
        "outputId": "6d353c72-d4bd-4701-eb92-a31078020af1"
      },
      "outputs": [
        {
          "output_type": "execute_result",
          "data": {
            "text/plain": [
              "Aircraft.Category\n",
              "Airplane      2883\n",
              "Helicopter     298\n",
              "Name: count, dtype: int64"
            ],
            "text/html": [
              "<div>\n",
              "<style scoped>\n",
              "    .dataframe tbody tr th:only-of-type {\n",
              "        vertical-align: middle;\n",
              "    }\n",
              "\n",
              "    .dataframe tbody tr th {\n",
              "        vertical-align: top;\n",
              "    }\n",
              "\n",
              "    .dataframe thead th {\n",
              "        text-align: right;\n",
              "    }\n",
              "</style>\n",
              "<table border=\"1\" class=\"dataframe\">\n",
              "  <thead>\n",
              "    <tr style=\"text-align: right;\">\n",
              "      <th></th>\n",
              "      <th>count</th>\n",
              "    </tr>\n",
              "    <tr>\n",
              "      <th>Aircraft.Category</th>\n",
              "      <th></th>\n",
              "    </tr>\n",
              "  </thead>\n",
              "  <tbody>\n",
              "    <tr>\n",
              "      <th>Airplane</th>\n",
              "      <td>2883</td>\n",
              "    </tr>\n",
              "    <tr>\n",
              "      <th>Helicopter</th>\n",
              "      <td>298</td>\n",
              "    </tr>\n",
              "  </tbody>\n",
              "</table>\n",
              "</div><br><label><b>dtype:</b> int64</label>"
            ]
          },
          "metadata": {},
          "execution_count": 39
        }
      ],
      "source": [
        "df['Aircraft.Category'].value_counts()"
      ]
    },
    {
      "cell_type": "code",
      "source": [
        "df.head(10)"
      ],
      "metadata": {
        "colab": {
          "base_uri": "https://localhost:8080/",
          "height": 452
        },
        "id": "Ot2MQgmhHMRB",
        "outputId": "346dbc76-eea2-4091-fa17-8b6d18a8549b"
      },
      "execution_count": 40,
      "outputs": [
        {
          "output_type": "execute_result",
          "data": {
            "text/plain": [
              "          Event.Id Investigation.Type Accident.Number  Event.Date  \\\n",
              "7   20020909X01562           Accident      SEA82DA022  1982-01-01   \n",
              "8   20020909X01561           Accident      NYC82DA015  1982-01-01   \n",
              "12  20020917X02148           Accident      FTW82FRJ07  1982-01-02   \n",
              "13  20020917X02134           Accident      FTW82FRA14  1982-01-02   \n",
              "14  20020917X02119           Accident      FTW82FPJ10  1982-01-02   \n",
              "15  20020917X02117           Accident      FTW82FPG08  1982-01-02   \n",
              "16  20020917X01962           Accident      DEN82DTM08  1982-01-02   \n",
              "18  20020917X02481           Accident      NYC82DA016  1982-01-02   \n",
              "19  20020917X02339           Accident      MIA82DA028  1982-01-02   \n",
              "20  20020917X01894           Accident      CHI82FEC08  1982-01-02   \n",
              "\n",
              "   Aircraft.damage Aircraft.Category Registration.Number      Make  \\\n",
              "7      Substantial          Airplane              N2482N    Cessna   \n",
              "8      Substantial          Airplane              N7967Q    Cessna   \n",
              "12       Destroyed          Airplane              N14779  Bellanca   \n",
              "13       Destroyed          Airplane              N758SK    Cessna   \n",
              "14       Destroyed          Airplane              N4876K    Navion   \n",
              "15       Destroyed          Airplane              N9779L     Beech   \n",
              "16       Destroyed        Helicopter              N51735   Enstrom   \n",
              "18     Substantial          Airplane              N25084    Cessna   \n",
              "19     Substantial        Helicopter               N23BS     Smith   \n",
              "20     Substantial          Airplane              N68812    Cessna   \n",
              "\n",
              "                 Model Amateur.Built  Number.of.Engines    Engine.Type  \\\n",
              "7                  140            No                1.0  Reciprocating   \n",
              "8                 401B            No                2.0  Reciprocating   \n",
              "12              17-30A            No                1.0  Reciprocating   \n",
              "13               R172K            No                1.0  Reciprocating   \n",
              "14                   A            No                1.0  Reciprocating   \n",
              "15                  19            No                1.0  Reciprocating   \n",
              "16                280C            No                1.0  Reciprocating   \n",
              "18                 172            No                1.0  Reciprocating   \n",
              "19  WCS-222 (BELL 47G)            No                1.0  Reciprocating   \n",
              "20                 152            No                1.0  Reciprocating   \n",
              "\n",
              "    Total.Fatal.Injuries  Total.Serious.Injuries  Total.Minor.Injuries  \\\n",
              "7                    0.0                     0.0                   0.0   \n",
              "8                    0.0                     0.0                   0.0   \n",
              "12                   0.0                     0.0                   1.0   \n",
              "13                   1.0                     0.0                   0.0   \n",
              "14                   1.0                     0.0                   0.0   \n",
              "15                   2.0                     0.0                   0.0   \n",
              "16                   0.0                     0.0                   0.0   \n",
              "18                   0.0                     0.0                   0.0   \n",
              "19                   0.0                     0.0                   0.0   \n",
              "20                   0.0                     0.0                   0.0   \n",
              "\n",
              "    Total.Uninjured Weather.Condition Broad.phase.of.flight   Report.Status  \\\n",
              "7               2.0               VMC               Takeoff  Probable Cause   \n",
              "8               2.0               IMC               Landing  Probable Cause   \n",
              "12              0.0               IMC                Cruise  Probable Cause   \n",
              "13              0.0               IMC               Takeoff  Probable Cause   \n",
              "14              0.0               IMC                Cruise  Probable Cause   \n",
              "15              0.0               IMC                Cruise  Probable Cause   \n",
              "16              1.0               IMC                  Taxi  Probable Cause   \n",
              "18              1.0               VMC                  Taxi  Probable Cause   \n",
              "19              2.0               VMC                Cruise  Probable Cause   \n",
              "20              1.0               VMC               Takeoff  Probable Cause   \n",
              "\n",
              "   Publication.Date  \n",
              "7        01-01-1982  \n",
              "8        01-01-1982  \n",
              "12       02-01-1983  \n",
              "13       02-01-1983  \n",
              "14       02-01-1983  \n",
              "15       02-01-1983  \n",
              "16       02-01-1983  \n",
              "18       02-01-1983  \n",
              "19       02-01-1983  \n",
              "20       02-01-1983  "
            ],
            "text/html": [
              "\n",
              "  <div id=\"df-ddff0543-c37e-48af-97ec-1714eaed7bd1\" class=\"colab-df-container\">\n",
              "    <div>\n",
              "<style scoped>\n",
              "    .dataframe tbody tr th:only-of-type {\n",
              "        vertical-align: middle;\n",
              "    }\n",
              "\n",
              "    .dataframe tbody tr th {\n",
              "        vertical-align: top;\n",
              "    }\n",
              "\n",
              "    .dataframe thead th {\n",
              "        text-align: right;\n",
              "    }\n",
              "</style>\n",
              "<table border=\"1\" class=\"dataframe\">\n",
              "  <thead>\n",
              "    <tr style=\"text-align: right;\">\n",
              "      <th></th>\n",
              "      <th>Event.Id</th>\n",
              "      <th>Investigation.Type</th>\n",
              "      <th>Accident.Number</th>\n",
              "      <th>Event.Date</th>\n",
              "      <th>Aircraft.damage</th>\n",
              "      <th>Aircraft.Category</th>\n",
              "      <th>Registration.Number</th>\n",
              "      <th>Make</th>\n",
              "      <th>Model</th>\n",
              "      <th>Amateur.Built</th>\n",
              "      <th>Number.of.Engines</th>\n",
              "      <th>Engine.Type</th>\n",
              "      <th>Total.Fatal.Injuries</th>\n",
              "      <th>Total.Serious.Injuries</th>\n",
              "      <th>Total.Minor.Injuries</th>\n",
              "      <th>Total.Uninjured</th>\n",
              "      <th>Weather.Condition</th>\n",
              "      <th>Broad.phase.of.flight</th>\n",
              "      <th>Report.Status</th>\n",
              "      <th>Publication.Date</th>\n",
              "    </tr>\n",
              "  </thead>\n",
              "  <tbody>\n",
              "    <tr>\n",
              "      <th>7</th>\n",
              "      <td>20020909X01562</td>\n",
              "      <td>Accident</td>\n",
              "      <td>SEA82DA022</td>\n",
              "      <td>1982-01-01</td>\n",
              "      <td>Substantial</td>\n",
              "      <td>Airplane</td>\n",
              "      <td>N2482N</td>\n",
              "      <td>Cessna</td>\n",
              "      <td>140</td>\n",
              "      <td>No</td>\n",
              "      <td>1.0</td>\n",
              "      <td>Reciprocating</td>\n",
              "      <td>0.0</td>\n",
              "      <td>0.0</td>\n",
              "      <td>0.0</td>\n",
              "      <td>2.0</td>\n",
              "      <td>VMC</td>\n",
              "      <td>Takeoff</td>\n",
              "      <td>Probable Cause</td>\n",
              "      <td>01-01-1982</td>\n",
              "    </tr>\n",
              "    <tr>\n",
              "      <th>8</th>\n",
              "      <td>20020909X01561</td>\n",
              "      <td>Accident</td>\n",
              "      <td>NYC82DA015</td>\n",
              "      <td>1982-01-01</td>\n",
              "      <td>Substantial</td>\n",
              "      <td>Airplane</td>\n",
              "      <td>N7967Q</td>\n",
              "      <td>Cessna</td>\n",
              "      <td>401B</td>\n",
              "      <td>No</td>\n",
              "      <td>2.0</td>\n",
              "      <td>Reciprocating</td>\n",
              "      <td>0.0</td>\n",
              "      <td>0.0</td>\n",
              "      <td>0.0</td>\n",
              "      <td>2.0</td>\n",
              "      <td>IMC</td>\n",
              "      <td>Landing</td>\n",
              "      <td>Probable Cause</td>\n",
              "      <td>01-01-1982</td>\n",
              "    </tr>\n",
              "    <tr>\n",
              "      <th>12</th>\n",
              "      <td>20020917X02148</td>\n",
              "      <td>Accident</td>\n",
              "      <td>FTW82FRJ07</td>\n",
              "      <td>1982-01-02</td>\n",
              "      <td>Destroyed</td>\n",
              "      <td>Airplane</td>\n",
              "      <td>N14779</td>\n",
              "      <td>Bellanca</td>\n",
              "      <td>17-30A</td>\n",
              "      <td>No</td>\n",
              "      <td>1.0</td>\n",
              "      <td>Reciprocating</td>\n",
              "      <td>0.0</td>\n",
              "      <td>0.0</td>\n",
              "      <td>1.0</td>\n",
              "      <td>0.0</td>\n",
              "      <td>IMC</td>\n",
              "      <td>Cruise</td>\n",
              "      <td>Probable Cause</td>\n",
              "      <td>02-01-1983</td>\n",
              "    </tr>\n",
              "    <tr>\n",
              "      <th>13</th>\n",
              "      <td>20020917X02134</td>\n",
              "      <td>Accident</td>\n",
              "      <td>FTW82FRA14</td>\n",
              "      <td>1982-01-02</td>\n",
              "      <td>Destroyed</td>\n",
              "      <td>Airplane</td>\n",
              "      <td>N758SK</td>\n",
              "      <td>Cessna</td>\n",
              "      <td>R172K</td>\n",
              "      <td>No</td>\n",
              "      <td>1.0</td>\n",
              "      <td>Reciprocating</td>\n",
              "      <td>1.0</td>\n",
              "      <td>0.0</td>\n",
              "      <td>0.0</td>\n",
              "      <td>0.0</td>\n",
              "      <td>IMC</td>\n",
              "      <td>Takeoff</td>\n",
              "      <td>Probable Cause</td>\n",
              "      <td>02-01-1983</td>\n",
              "    </tr>\n",
              "    <tr>\n",
              "      <th>14</th>\n",
              "      <td>20020917X02119</td>\n",
              "      <td>Accident</td>\n",
              "      <td>FTW82FPJ10</td>\n",
              "      <td>1982-01-02</td>\n",
              "      <td>Destroyed</td>\n",
              "      <td>Airplane</td>\n",
              "      <td>N4876K</td>\n",
              "      <td>Navion</td>\n",
              "      <td>A</td>\n",
              "      <td>No</td>\n",
              "      <td>1.0</td>\n",
              "      <td>Reciprocating</td>\n",
              "      <td>1.0</td>\n",
              "      <td>0.0</td>\n",
              "      <td>0.0</td>\n",
              "      <td>0.0</td>\n",
              "      <td>IMC</td>\n",
              "      <td>Cruise</td>\n",
              "      <td>Probable Cause</td>\n",
              "      <td>02-01-1983</td>\n",
              "    </tr>\n",
              "    <tr>\n",
              "      <th>15</th>\n",
              "      <td>20020917X02117</td>\n",
              "      <td>Accident</td>\n",
              "      <td>FTW82FPG08</td>\n",
              "      <td>1982-01-02</td>\n",
              "      <td>Destroyed</td>\n",
              "      <td>Airplane</td>\n",
              "      <td>N9779L</td>\n",
              "      <td>Beech</td>\n",
              "      <td>19</td>\n",
              "      <td>No</td>\n",
              "      <td>1.0</td>\n",
              "      <td>Reciprocating</td>\n",
              "      <td>2.0</td>\n",
              "      <td>0.0</td>\n",
              "      <td>0.0</td>\n",
              "      <td>0.0</td>\n",
              "      <td>IMC</td>\n",
              "      <td>Cruise</td>\n",
              "      <td>Probable Cause</td>\n",
              "      <td>02-01-1983</td>\n",
              "    </tr>\n",
              "    <tr>\n",
              "      <th>16</th>\n",
              "      <td>20020917X01962</td>\n",
              "      <td>Accident</td>\n",
              "      <td>DEN82DTM08</td>\n",
              "      <td>1982-01-02</td>\n",
              "      <td>Destroyed</td>\n",
              "      <td>Helicopter</td>\n",
              "      <td>N51735</td>\n",
              "      <td>Enstrom</td>\n",
              "      <td>280C</td>\n",
              "      <td>No</td>\n",
              "      <td>1.0</td>\n",
              "      <td>Reciprocating</td>\n",
              "      <td>0.0</td>\n",
              "      <td>0.0</td>\n",
              "      <td>0.0</td>\n",
              "      <td>1.0</td>\n",
              "      <td>IMC</td>\n",
              "      <td>Taxi</td>\n",
              "      <td>Probable Cause</td>\n",
              "      <td>02-01-1983</td>\n",
              "    </tr>\n",
              "    <tr>\n",
              "      <th>18</th>\n",
              "      <td>20020917X02481</td>\n",
              "      <td>Accident</td>\n",
              "      <td>NYC82DA016</td>\n",
              "      <td>1982-01-02</td>\n",
              "      <td>Substantial</td>\n",
              "      <td>Airplane</td>\n",
              "      <td>N25084</td>\n",
              "      <td>Cessna</td>\n",
              "      <td>172</td>\n",
              "      <td>No</td>\n",
              "      <td>1.0</td>\n",
              "      <td>Reciprocating</td>\n",
              "      <td>0.0</td>\n",
              "      <td>0.0</td>\n",
              "      <td>0.0</td>\n",
              "      <td>1.0</td>\n",
              "      <td>VMC</td>\n",
              "      <td>Taxi</td>\n",
              "      <td>Probable Cause</td>\n",
              "      <td>02-01-1983</td>\n",
              "    </tr>\n",
              "    <tr>\n",
              "      <th>19</th>\n",
              "      <td>20020917X02339</td>\n",
              "      <td>Accident</td>\n",
              "      <td>MIA82DA028</td>\n",
              "      <td>1982-01-02</td>\n",
              "      <td>Substantial</td>\n",
              "      <td>Helicopter</td>\n",
              "      <td>N23BS</td>\n",
              "      <td>Smith</td>\n",
              "      <td>WCS-222 (BELL 47G)</td>\n",
              "      <td>No</td>\n",
              "      <td>1.0</td>\n",
              "      <td>Reciprocating</td>\n",
              "      <td>0.0</td>\n",
              "      <td>0.0</td>\n",
              "      <td>0.0</td>\n",
              "      <td>2.0</td>\n",
              "      <td>VMC</td>\n",
              "      <td>Cruise</td>\n",
              "      <td>Probable Cause</td>\n",
              "      <td>02-01-1983</td>\n",
              "    </tr>\n",
              "    <tr>\n",
              "      <th>20</th>\n",
              "      <td>20020917X01894</td>\n",
              "      <td>Accident</td>\n",
              "      <td>CHI82FEC08</td>\n",
              "      <td>1982-01-02</td>\n",
              "      <td>Substantial</td>\n",
              "      <td>Airplane</td>\n",
              "      <td>N68812</td>\n",
              "      <td>Cessna</td>\n",
              "      <td>152</td>\n",
              "      <td>No</td>\n",
              "      <td>1.0</td>\n",
              "      <td>Reciprocating</td>\n",
              "      <td>0.0</td>\n",
              "      <td>0.0</td>\n",
              "      <td>0.0</td>\n",
              "      <td>1.0</td>\n",
              "      <td>VMC</td>\n",
              "      <td>Takeoff</td>\n",
              "      <td>Probable Cause</td>\n",
              "      <td>02-01-1983</td>\n",
              "    </tr>\n",
              "  </tbody>\n",
              "</table>\n",
              "</div>\n",
              "    <div class=\"colab-df-buttons\">\n",
              "\n",
              "  <div class=\"colab-df-container\">\n",
              "    <button class=\"colab-df-convert\" onclick=\"convertToInteractive('df-ddff0543-c37e-48af-97ec-1714eaed7bd1')\"\n",
              "            title=\"Convert this dataframe to an interactive table.\"\n",
              "            style=\"display:none;\">\n",
              "\n",
              "  <svg xmlns=\"http://www.w3.org/2000/svg\" height=\"24px\" viewBox=\"0 -960 960 960\">\n",
              "    <path d=\"M120-120v-720h720v720H120Zm60-500h600v-160H180v160Zm220 220h160v-160H400v160Zm0 220h160v-160H400v160ZM180-400h160v-160H180v160Zm440 0h160v-160H620v160ZM180-180h160v-160H180v160Zm440 0h160v-160H620v160Z\"/>\n",
              "  </svg>\n",
              "    </button>\n",
              "\n",
              "  <style>\n",
              "    .colab-df-container {\n",
              "      display:flex;\n",
              "      gap: 12px;\n",
              "    }\n",
              "\n",
              "    .colab-df-convert {\n",
              "      background-color: #E8F0FE;\n",
              "      border: none;\n",
              "      border-radius: 50%;\n",
              "      cursor: pointer;\n",
              "      display: none;\n",
              "      fill: #1967D2;\n",
              "      height: 32px;\n",
              "      padding: 0 0 0 0;\n",
              "      width: 32px;\n",
              "    }\n",
              "\n",
              "    .colab-df-convert:hover {\n",
              "      background-color: #E2EBFA;\n",
              "      box-shadow: 0px 1px 2px rgba(60, 64, 67, 0.3), 0px 1px 3px 1px rgba(60, 64, 67, 0.15);\n",
              "      fill: #174EA6;\n",
              "    }\n",
              "\n",
              "    .colab-df-buttons div {\n",
              "      margin-bottom: 4px;\n",
              "    }\n",
              "\n",
              "    [theme=dark] .colab-df-convert {\n",
              "      background-color: #3B4455;\n",
              "      fill: #D2E3FC;\n",
              "    }\n",
              "\n",
              "    [theme=dark] .colab-df-convert:hover {\n",
              "      background-color: #434B5C;\n",
              "      box-shadow: 0px 1px 3px 1px rgba(0, 0, 0, 0.15);\n",
              "      filter: drop-shadow(0px 1px 2px rgba(0, 0, 0, 0.3));\n",
              "      fill: #FFFFFF;\n",
              "    }\n",
              "  </style>\n",
              "\n",
              "    <script>\n",
              "      const buttonEl =\n",
              "        document.querySelector('#df-ddff0543-c37e-48af-97ec-1714eaed7bd1 button.colab-df-convert');\n",
              "      buttonEl.style.display =\n",
              "        google.colab.kernel.accessAllowed ? 'block' : 'none';\n",
              "\n",
              "      async function convertToInteractive(key) {\n",
              "        const element = document.querySelector('#df-ddff0543-c37e-48af-97ec-1714eaed7bd1');\n",
              "        const dataTable =\n",
              "          await google.colab.kernel.invokeFunction('convertToInteractive',\n",
              "                                                    [key], {});\n",
              "        if (!dataTable) return;\n",
              "\n",
              "        const docLinkHtml = 'Like what you see? Visit the ' +\n",
              "          '<a target=\"_blank\" href=https://colab.research.google.com/notebooks/data_table.ipynb>data table notebook</a>'\n",
              "          + ' to learn more about interactive tables.';\n",
              "        element.innerHTML = '';\n",
              "        dataTable['output_type'] = 'display_data';\n",
              "        await google.colab.output.renderOutput(dataTable, element);\n",
              "        const docLink = document.createElement('div');\n",
              "        docLink.innerHTML = docLinkHtml;\n",
              "        element.appendChild(docLink);\n",
              "      }\n",
              "    </script>\n",
              "  </div>\n",
              "\n",
              "\n",
              "<div id=\"df-f0dbfba7-dfc2-4e18-b3c2-ad6772171506\">\n",
              "  <button class=\"colab-df-quickchart\" onclick=\"quickchart('df-f0dbfba7-dfc2-4e18-b3c2-ad6772171506')\"\n",
              "            title=\"Suggest charts\"\n",
              "            style=\"display:none;\">\n",
              "\n",
              "<svg xmlns=\"http://www.w3.org/2000/svg\" height=\"24px\"viewBox=\"0 0 24 24\"\n",
              "     width=\"24px\">\n",
              "    <g>\n",
              "        <path d=\"M19 3H5c-1.1 0-2 .9-2 2v14c0 1.1.9 2 2 2h14c1.1 0 2-.9 2-2V5c0-1.1-.9-2-2-2zM9 17H7v-7h2v7zm4 0h-2V7h2v10zm4 0h-2v-4h2v4z\"/>\n",
              "    </g>\n",
              "</svg>\n",
              "  </button>\n",
              "\n",
              "<style>\n",
              "  .colab-df-quickchart {\n",
              "      --bg-color: #E8F0FE;\n",
              "      --fill-color: #1967D2;\n",
              "      --hover-bg-color: #E2EBFA;\n",
              "      --hover-fill-color: #174EA6;\n",
              "      --disabled-fill-color: #AAA;\n",
              "      --disabled-bg-color: #DDD;\n",
              "  }\n",
              "\n",
              "  [theme=dark] .colab-df-quickchart {\n",
              "      --bg-color: #3B4455;\n",
              "      --fill-color: #D2E3FC;\n",
              "      --hover-bg-color: #434B5C;\n",
              "      --hover-fill-color: #FFFFFF;\n",
              "      --disabled-bg-color: #3B4455;\n",
              "      --disabled-fill-color: #666;\n",
              "  }\n",
              "\n",
              "  .colab-df-quickchart {\n",
              "    background-color: var(--bg-color);\n",
              "    border: none;\n",
              "    border-radius: 50%;\n",
              "    cursor: pointer;\n",
              "    display: none;\n",
              "    fill: var(--fill-color);\n",
              "    height: 32px;\n",
              "    padding: 0;\n",
              "    width: 32px;\n",
              "  }\n",
              "\n",
              "  .colab-df-quickchart:hover {\n",
              "    background-color: var(--hover-bg-color);\n",
              "    box-shadow: 0 1px 2px rgba(60, 64, 67, 0.3), 0 1px 3px 1px rgba(60, 64, 67, 0.15);\n",
              "    fill: var(--button-hover-fill-color);\n",
              "  }\n",
              "\n",
              "  .colab-df-quickchart-complete:disabled,\n",
              "  .colab-df-quickchart-complete:disabled:hover {\n",
              "    background-color: var(--disabled-bg-color);\n",
              "    fill: var(--disabled-fill-color);\n",
              "    box-shadow: none;\n",
              "  }\n",
              "\n",
              "  .colab-df-spinner {\n",
              "    border: 2px solid var(--fill-color);\n",
              "    border-color: transparent;\n",
              "    border-bottom-color: var(--fill-color);\n",
              "    animation:\n",
              "      spin 1s steps(1) infinite;\n",
              "  }\n",
              "\n",
              "  @keyframes spin {\n",
              "    0% {\n",
              "      border-color: transparent;\n",
              "      border-bottom-color: var(--fill-color);\n",
              "      border-left-color: var(--fill-color);\n",
              "    }\n",
              "    20% {\n",
              "      border-color: transparent;\n",
              "      border-left-color: var(--fill-color);\n",
              "      border-top-color: var(--fill-color);\n",
              "    }\n",
              "    30% {\n",
              "      border-color: transparent;\n",
              "      border-left-color: var(--fill-color);\n",
              "      border-top-color: var(--fill-color);\n",
              "      border-right-color: var(--fill-color);\n",
              "    }\n",
              "    40% {\n",
              "      border-color: transparent;\n",
              "      border-right-color: var(--fill-color);\n",
              "      border-top-color: var(--fill-color);\n",
              "    }\n",
              "    60% {\n",
              "      border-color: transparent;\n",
              "      border-right-color: var(--fill-color);\n",
              "    }\n",
              "    80% {\n",
              "      border-color: transparent;\n",
              "      border-right-color: var(--fill-color);\n",
              "      border-bottom-color: var(--fill-color);\n",
              "    }\n",
              "    90% {\n",
              "      border-color: transparent;\n",
              "      border-bottom-color: var(--fill-color);\n",
              "    }\n",
              "  }\n",
              "</style>\n",
              "\n",
              "  <script>\n",
              "    async function quickchart(key) {\n",
              "      const quickchartButtonEl =\n",
              "        document.querySelector('#' + key + ' button');\n",
              "      quickchartButtonEl.disabled = true;  // To prevent multiple clicks.\n",
              "      quickchartButtonEl.classList.add('colab-df-spinner');\n",
              "      try {\n",
              "        const charts = await google.colab.kernel.invokeFunction(\n",
              "            'suggestCharts', [key], {});\n",
              "      } catch (error) {\n",
              "        console.error('Error during call to suggestCharts:', error);\n",
              "      }\n",
              "      quickchartButtonEl.classList.remove('colab-df-spinner');\n",
              "      quickchartButtonEl.classList.add('colab-df-quickchart-complete');\n",
              "    }\n",
              "    (() => {\n",
              "      let quickchartButtonEl =\n",
              "        document.querySelector('#df-f0dbfba7-dfc2-4e18-b3c2-ad6772171506 button');\n",
              "      quickchartButtonEl.style.display =\n",
              "        google.colab.kernel.accessAllowed ? 'block' : 'none';\n",
              "    })();\n",
              "  </script>\n",
              "</div>\n",
              "\n",
              "    </div>\n",
              "  </div>\n"
            ],
            "application/vnd.google.colaboratory.intrinsic+json": {
              "type": "dataframe",
              "variable_name": "df",
              "repr_error": "0"
            }
          },
          "metadata": {},
          "execution_count": 40
        }
      ]
    },
    {
      "cell_type": "code",
      "source": [
        "grouped_df = df.groupby(['Make', 'Number.of.Engines']).size().reset_index(name='Count')\n"
      ],
      "metadata": {
        "id": "v6ICdZqkhJ55"
      },
      "execution_count": 41,
      "outputs": []
    },
    {
      "cell_type": "code",
      "source": [
        "df = df[df['Number.of.Engines'] != 1.0]"
      ],
      "metadata": {
        "id": "J3CXpYLDi_fj"
      },
      "execution_count": 42,
      "outputs": []
    },
    {
      "cell_type": "code",
      "source": [
        "# Looks at length of groupby of engines and make, commented out due to too much length.\n",
        "# grouped_df.value_counts()"
      ],
      "metadata": {
        "id": "NEavYi1Uhz7P"
      },
      "execution_count": 43,
      "outputs": []
    },
    {
      "cell_type": "code",
      "source": [
        "df = df[df['Number.of.Engines'] != 1.0]\n",
        "# Filters df['Number.of.Engines'] to 2.0, 3.0, or 4.0."
      ],
      "metadata": {
        "id": "ACYP2SviHI1D"
      },
      "execution_count": 44,
      "outputs": []
    },
    {
      "cell_type": "code",
      "source": [
        "df['Number.of.Engines'].value_counts()"
      ],
      "metadata": {
        "colab": {
          "base_uri": "https://localhost:8080/",
          "height": 209
        },
        "id": "P5rNMahOHZVy",
        "outputId": "4ef03655-43bc-43a2-9608-43ef0f8f5b3c"
      },
      "execution_count": 45,
      "outputs": [
        {
          "output_type": "execute_result",
          "data": {
            "text/plain": [
              "Number.of.Engines\n",
              "2.0    468\n",
              "3.0     14\n",
              "4.0      6\n",
              "Name: count, dtype: int64"
            ],
            "text/html": [
              "<div>\n",
              "<style scoped>\n",
              "    .dataframe tbody tr th:only-of-type {\n",
              "        vertical-align: middle;\n",
              "    }\n",
              "\n",
              "    .dataframe tbody tr th {\n",
              "        vertical-align: top;\n",
              "    }\n",
              "\n",
              "    .dataframe thead th {\n",
              "        text-align: right;\n",
              "    }\n",
              "</style>\n",
              "<table border=\"1\" class=\"dataframe\">\n",
              "  <thead>\n",
              "    <tr style=\"text-align: right;\">\n",
              "      <th></th>\n",
              "      <th>count</th>\n",
              "    </tr>\n",
              "    <tr>\n",
              "      <th>Number.of.Engines</th>\n",
              "      <th></th>\n",
              "    </tr>\n",
              "  </thead>\n",
              "  <tbody>\n",
              "    <tr>\n",
              "      <th>2.0</th>\n",
              "      <td>468</td>\n",
              "    </tr>\n",
              "    <tr>\n",
              "      <th>3.0</th>\n",
              "      <td>14</td>\n",
              "    </tr>\n",
              "    <tr>\n",
              "      <th>4.0</th>\n",
              "      <td>6</td>\n",
              "    </tr>\n",
              "  </tbody>\n",
              "</table>\n",
              "</div><br><label><b>dtype:</b> int64</label>"
            ]
          },
          "metadata": {},
          "execution_count": 45
        }
      ]
    },
    {
      "cell_type": "code",
      "source": [
        "df = df[df['Engine.Type'] != 'Reciprocating']"
      ],
      "metadata": {
        "id": "-GrwQXvgJUfR"
      },
      "execution_count": 46,
      "outputs": []
    },
    {
      "cell_type": "code",
      "source": [
        "df['Engine.Type'].value_counts()"
      ],
      "metadata": {
        "colab": {
          "base_uri": "https://localhost:8080/",
          "height": 241
        },
        "id": "rN2gJo_WJibo",
        "outputId": "353e0a63-1bf7-40a0-b4cc-e28e167f6ed0"
      },
      "execution_count": 47,
      "outputs": [
        {
          "output_type": "execute_result",
          "data": {
            "text/plain": [
              "Engine.Type\n",
              "Turbo Prop     65\n",
              "Turbo Fan      29\n",
              "Turbo Shaft    28\n",
              "Turbo Jet      16\n",
              "Name: count, dtype: int64"
            ],
            "text/html": [
              "<div>\n",
              "<style scoped>\n",
              "    .dataframe tbody tr th:only-of-type {\n",
              "        vertical-align: middle;\n",
              "    }\n",
              "\n",
              "    .dataframe tbody tr th {\n",
              "        vertical-align: top;\n",
              "    }\n",
              "\n",
              "    .dataframe thead th {\n",
              "        text-align: right;\n",
              "    }\n",
              "</style>\n",
              "<table border=\"1\" class=\"dataframe\">\n",
              "  <thead>\n",
              "    <tr style=\"text-align: right;\">\n",
              "      <th></th>\n",
              "      <th>count</th>\n",
              "    </tr>\n",
              "    <tr>\n",
              "      <th>Engine.Type</th>\n",
              "      <th></th>\n",
              "    </tr>\n",
              "  </thead>\n",
              "  <tbody>\n",
              "    <tr>\n",
              "      <th>Turbo Prop</th>\n",
              "      <td>65</td>\n",
              "    </tr>\n",
              "    <tr>\n",
              "      <th>Turbo Fan</th>\n",
              "      <td>29</td>\n",
              "    </tr>\n",
              "    <tr>\n",
              "      <th>Turbo Shaft</th>\n",
              "      <td>28</td>\n",
              "    </tr>\n",
              "    <tr>\n",
              "      <th>Turbo Jet</th>\n",
              "      <td>16</td>\n",
              "    </tr>\n",
              "  </tbody>\n",
              "</table>\n",
              "</div><br><label><b>dtype:</b> int64</label>"
            ]
          },
          "metadata": {},
          "execution_count": 47
        }
      ]
    },
    {
      "cell_type": "code",
      "execution_count": 48,
      "metadata": {
        "id": "5o63Jv_2QfVC"
      },
      "outputs": [],
      "source": [
        "group_by_engine_fatal = df.groupby(by='Number.of.Engines')['Total.Fatal.Injuries'].sum()"
      ]
    },
    {
      "cell_type": "markdown",
      "source": [
        "# Exploratory Data Analysis\n"
      ],
      "metadata": {
        "id": "_5JykaAByMO1"
      }
    },
    {
      "cell_type": "code",
      "execution_count": 49,
      "metadata": {
        "colab": {
          "base_uri": "https://localhost:8080/",
          "height": 497
        },
        "id": "zmUjejdOSFRZ",
        "outputId": "19815a4a-6555-454d-d79e-862e6db55d7a"
      },
      "outputs": [
        {
          "output_type": "execute_result",
          "data": {
            "text/plain": [
              "<Axes: title={'center': 'Total-Fatal-Injuries By Number-of-Engines'}, xlabel='Number.of.Engines', ylabel='Total Fatal Injuries'>"
            ]
          },
          "metadata": {},
          "execution_count": 49
        },
        {
          "output_type": "display_data",
          "data": {
            "text/plain": [
              "<Figure size 640x480 with 1 Axes>"
            ],
            "image/png": "[encoded data removed]"
          },
          "metadata": {}
        }
      ],
      "source": [
        "group_by_engine_fatal.plot(kind='bar', ylabel='Total Fatal Injuries', title='Total-Fatal-Injuries By Number-of-Engines')"
      ]
    },
    {
      "cell_type": "code",
      "execution_count": 50,
      "metadata": {
        "id": "4U8y1grKdIC1"
      },
      "outputs": [],
      "source": [
        "group_by_make_fatal = df.groupby(by='Make')['Total.Fatal.Injuries'].sum()"
      ]
    },
    {
      "cell_type": "code",
      "source": [
        "# Creates value counts of make column, commented out due to too much length.\n",
        "# df['Make'].value_counts().sort_index()"
      ],
      "metadata": {
        "id": "rLGU8slJmsEE"
      },
      "execution_count": 51,
      "outputs": []
    },
    {
      "cell_type": "code",
      "source": [
        "df[df['Make']=='Dassault/sud']"
      ],
      "metadata": {
        "colab": {
          "base_uri": "https://localhost:8080/",
          "height": 73
        },
        "id": "1spXGdnslY7c",
        "outputId": "6d8a108e-78cf-44b6-c240-f8e9082c0ffb"
      },
      "execution_count": 52,
      "outputs": [
        {
          "output_type": "execute_result",
          "data": {
            "text/plain": [
              "Empty DataFrame\n",
              "Columns: [Event.Id, Investigation.Type, Accident.Number, Event.Date, Aircraft.damage, Aircraft.Category, Registration.Number, Make, Model, Amateur.Built, Number.of.Engines, Engine.Type, Total.Fatal.Injuries, Total.Serious.Injuries, Total.Minor.Injuries, Total.Uninjured, Weather.Condition, Broad.phase.of.flight, Report.Status, Publication.Date]\n",
              "Index: []"
            ],
            "text/html": [
              "\n",
              "  <div id=\"df-ebb4a10d-7ad0-4a41-9ddf-718a28731ba0\" class=\"colab-df-container\">\n",
              "    <div>\n",
              "<style scoped>\n",
              "    .dataframe tbody tr th:only-of-type {\n",
              "        vertical-align: middle;\n",
              "    }\n",
              "\n",
              "    .dataframe tbody tr th {\n",
              "        vertical-align: top;\n",
              "    }\n",
              "\n",
              "    .dataframe thead th {\n",
              "        text-align: right;\n",
              "    }\n",
              "</style>\n",
              "<table border=\"1\" class=\"dataframe\">\n",
              "  <thead>\n",
              "    <tr style=\"text-align: right;\">\n",
              "      <th></th>\n",
              "      <th>Event.Id</th>\n",
              "      <th>Investigation.Type</th>\n",
              "      <th>Accident.Number</th>\n",
              "      <th>Event.Date</th>\n",
              "      <th>Aircraft.damage</th>\n",
              "      <th>Aircraft.Category</th>\n",
              "      <th>Registration.Number</th>\n",
              "      <th>Make</th>\n",
              "      <th>Model</th>\n",
              "      <th>Amateur.Built</th>\n",
              "      <th>Number.of.Engines</th>\n",
              "      <th>Engine.Type</th>\n",
              "      <th>Total.Fatal.Injuries</th>\n",
              "      <th>Total.Serious.Injuries</th>\n",
              "      <th>Total.Minor.Injuries</th>\n",
              "      <th>Total.Uninjured</th>\n",
              "      <th>Weather.Condition</th>\n",
              "      <th>Broad.phase.of.flight</th>\n",
              "      <th>Report.Status</th>\n",
              "      <th>Publication.Date</th>\n",
              "    </tr>\n",
              "  </thead>\n",
              "  <tbody>\n",
              "  </tbody>\n",
              "</table>\n",
              "</div>\n",
              "    <div class=\"colab-df-buttons\">\n",
              "\n",
              "  <div class=\"colab-df-container\">\n",
              "    <button class=\"colab-df-convert\" onclick=\"convertToInteractive('df-ebb4a10d-7ad0-4a41-9ddf-718a28731ba0')\"\n",
              "            title=\"Convert this dataframe to an interactive table.\"\n",
              "            style=\"display:none;\">\n",
              "\n",
              "  <svg xmlns=\"http://www.w3.org/2000/svg\" height=\"24px\" viewBox=\"0 -960 960 960\">\n",
              "    <path d=\"M120-120v-720h720v720H120Zm60-500h600v-160H180v160Zm220 220h160v-160H400v160Zm0 220h160v-160H400v160ZM180-400h160v-160H180v160Zm440 0h160v-160H620v160ZM180-180h160v-160H180v160Zm440 0h160v-160H620v160Z\"/>\n",
              "  </svg>\n",
              "    </button>\n",
              "\n",
              "  <style>\n",
              "    .colab-df-container {\n",
              "      display:flex;\n",
              "      gap: 12px;\n",
              "    }\n",
              "\n",
              "    .colab-df-convert {\n",
              "      background-color: #E8F0FE;\n",
              "      border: none;\n",
              "      border-radius: 50%;\n",
              "      cursor: pointer;\n",
              "      display: none;\n",
              "      fill: #1967D2;\n",
              "      height: 32px;\n",
              "      padding: 0 0 0 0;\n",
              "      width: 32px;\n",
              "    }\n",
              "\n",
              "    .colab-df-convert:hover {\n",
              "      background-color: #E2EBFA;\n",
              "      box-shadow: 0px 1px 2px rgba(60, 64, 67, 0.3), 0px 1px 3px 1px rgba(60, 64, 67, 0.15);\n",
              "      fill: #174EA6;\n",
              "    }\n",
              "\n",
              "    .colab-df-buttons div {\n",
              "      margin-bottom: 4px;\n",
              "    }\n",
              "\n",
              "    [theme=dark] .colab-df-convert {\n",
              "      background-color: #3B4455;\n",
              "      fill: #D2E3FC;\n",
              "    }\n",
              "\n",
              "    [theme=dark] .colab-df-convert:hover {\n",
              "      background-color: #434B5C;\n",
              "      box-shadow: 0px 1px 3px 1px rgba(0, 0, 0, 0.15);\n",
              "      filter: drop-shadow(0px 1px 2px rgba(0, 0, 0, 0.3));\n",
              "      fill: #FFFFFF;\n",
              "    }\n",
              "  </style>\n",
              "\n",
              "    <script>\n",
              "      const buttonEl =\n",
              "        document.querySelector('#df-ebb4a10d-7ad0-4a41-9ddf-718a28731ba0 button.colab-df-convert');\n",
              "      buttonEl.style.display =\n",
              "        google.colab.kernel.accessAllowed ? 'block' : 'none';\n",
              "\n",
              "      async function convertToInteractive(key) {\n",
              "        const element = document.querySelector('#df-ebb4a10d-7ad0-4a41-9ddf-718a28731ba0');\n",
              "        const dataTable =\n",
              "          await google.colab.kernel.invokeFunction('convertToInteractive',\n",
              "                                                    [key], {});\n",
              "        if (!dataTable) return;\n",
              "\n",
              "        const docLinkHtml = 'Like what you see? Visit the ' +\n",
              "          '<a target=\"_blank\" href=https://colab.research.google.com/notebooks/data_table.ipynb>data table notebook</a>'\n",
              "          + ' to learn more about interactive tables.';\n",
              "        element.innerHTML = '';\n",
              "        dataTable['output_type'] = 'display_data';\n",
              "        await google.colab.output.renderOutput(dataTable, element);\n",
              "        const docLink = document.createElement('div');\n",
              "        docLink.innerHTML = docLinkHtml;\n",
              "        element.appendChild(docLink);\n",
              "      }\n",
              "    </script>\n",
              "  </div>\n",
              "\n",
              "\n",
              "    </div>\n",
              "  </div>\n"
            ],
            "application/vnd.google.colaboratory.intrinsic+json": {
              "type": "dataframe",
              "repr_error": "Out of range float values are not JSON compliant: nan"
            }
          },
          "metadata": {},
          "execution_count": 52
        }
      ]
    },
    {
      "cell_type": "code",
      "source": [
        "group_by_make_fatal.sort_values().head(6).plot(kind='bar', ylabel='Total Fatal Injuries', xlabel='Make', title='Fatal-Injuries & Make_Groupby')"
      ],
      "metadata": {
        "id": "hNaIlgEgj2e4",
        "outputId": "84db92fe-149f-4134-fbde-4839a5d3601d",
        "colab": {
          "base_uri": "https://localhost:8080/",
          "height": 597
        }
      },
      "execution_count": 53,
      "outputs": [
        {
          "output_type": "execute_result",
          "data": {
            "text/plain": [
              "<Axes: title={'center': 'Fatal-Injuries & Make_Groupby'}, xlabel='Make', ylabel='Total Fatal Injuries'>"
            ]
          },
          "metadata": {},
          "execution_count": 53
        },
        {
          "output_type": "display_data",
          "data": {
            "text/plain": [
              "<Figure size 640x480 with 1 Axes>"
            ],
            "image/png": "[encoded data removed]"
          },
          "metadata": {}
        }
      ]
    },
    {
      "cell_type": "code",
      "source": [
        "#  df['Make'].value_counts()"
      ],
      "metadata": {
        "id": "M1Yj928PfvgR"
      },
      "execution_count": 54,
      "outputs": []
    },
    {
      "cell_type": "code",
      "execution_count": 55,
      "metadata": {
        "id": "jC6v3P29eVwv"
      },
      "outputs": [],
      "source": [
        "# group_by_make_fatal"
      ]
    },
    {
      "cell_type": "code",
      "source": [
        "df['Number.of.Engines'] = df['Number.of.Engines'].astype(float)"
      ],
      "metadata": {
        "id": "Z5DTTyeBCVF7"
      },
      "execution_count": 56,
      "outputs": []
    },
    {
      "cell_type": "code",
      "source": [
        "df['Number.of.Engines'].value_counts().plot(kind='bar', ylabel='Total Fatal Injuries', xlabel='Number of Engines', title='number_of_engines_by_fatal_injuries')\n"
      ],
      "metadata": {
        "id": "xwUyLIC_CqKv",
        "outputId": "caf1c041-47ca-4f51-89fa-c869129c85fb",
        "colab": {
          "base_uri": "https://localhost:8080/",
          "height": 497
        }
      },
      "execution_count": 57,
      "outputs": [
        {
          "output_type": "execute_result",
          "data": {
            "text/plain": [
              "<Axes: title={'center': 'number_of_engines_by_fatal_injuries'}, xlabel='Number of Engines', ylabel='Total Fatal Injuries'>"
            ]
          },
          "metadata": {},
          "execution_count": 57
        },
        {
          "output_type": "display_data",
          "data": {
            "text/plain": [
              "<Figure size 640x480 with 1 Axes>"
            ],
            "image/png": "[encoded data removed]"
          },
          "metadata": {}
        }
      ]
    },
    {
      "cell_type": "code",
      "execution_count": 58,
      "metadata": {
        "id": "ivW_7NtyfHQH"
      },
      "outputs": [],
      "source": [
        "# df['Number.of.Engines'] = df['Number.of.Engines'].apply(lambda x: x if x in [1.0, 2.0] else None)\n",
        "\n",
        "# THIS IS to filter by # Of Enginges to be only 1 or 2."
      ]
    },
    {
      "cell_type": "code",
      "source": [
        "Engines_counts = df['Number.of.Engines'].value_counts()"
      ],
      "metadata": {
        "id": "iWvPzdTOPkiW"
      },
      "execution_count": 59,
      "outputs": []
    },
    {
      "cell_type": "code",
      "source": [
        "Engines_counts"
      ],
      "metadata": {
        "id": "BA0Gw95zQY7r",
        "outputId": "4adaf688-411e-49db-a97c-46edcdbb16af",
        "colab": {
          "base_uri": "https://localhost:8080/",
          "height": 209
        }
      },
      "execution_count": 60,
      "outputs": [
        {
          "output_type": "execute_result",
          "data": {
            "text/plain": [
              "Number.of.Engines\n",
              "2.0    120\n",
              "3.0     14\n",
              "4.0      4\n",
              "Name: count, dtype: int64"
            ],
            "text/html": [
              "<div>\n",
              "<style scoped>\n",
              "    .dataframe tbody tr th:only-of-type {\n",
              "        vertical-align: middle;\n",
              "    }\n",
              "\n",
              "    .dataframe tbody tr th {\n",
              "        vertical-align: top;\n",
              "    }\n",
              "\n",
              "    .dataframe thead th {\n",
              "        text-align: right;\n",
              "    }\n",
              "</style>\n",
              "<table border=\"1\" class=\"dataframe\">\n",
              "  <thead>\n",
              "    <tr style=\"text-align: right;\">\n",
              "      <th></th>\n",
              "      <th>count</th>\n",
              "    </tr>\n",
              "    <tr>\n",
              "      <th>Number.of.Engines</th>\n",
              "      <th></th>\n",
              "    </tr>\n",
              "  </thead>\n",
              "  <tbody>\n",
              "    <tr>\n",
              "      <th>2.0</th>\n",
              "      <td>120</td>\n",
              "    </tr>\n",
              "    <tr>\n",
              "      <th>3.0</th>\n",
              "      <td>14</td>\n",
              "    </tr>\n",
              "    <tr>\n",
              "      <th>4.0</th>\n",
              "      <td>4</td>\n",
              "    </tr>\n",
              "  </tbody>\n",
              "</table>\n",
              "</div><br><label><b>dtype:</b> int64</label>"
            ]
          },
          "metadata": {},
          "execution_count": 60
        }
      ]
    },
    {
      "cell_type": "code",
      "source": [
        "Fatal_counts = df['Total.Fatal.Injuries'].value_counts()"
      ],
      "metadata": {
        "id": "swIhV8SBPsXs"
      },
      "execution_count": 61,
      "outputs": []
    },
    {
      "cell_type": "code",
      "source": [
        "graph_df = df['Number.of.Engines'].value_counts().to_frame()\\\n",
        "               .join(df['Total.Fatal.Injuries'].value_counts().to_frame(),\n",
        "                     lsuffix='_engines', rsuffix='_fatal')\n",
        "# Add suffixes to distinguish between 'count' columns from the two DataFrames\n",
        "\n",
        "graph_df.plot(kind='bar',figsize=(8, 4))"
      ],
      "metadata": {
        "id": "5dpb0IoVTdcK",
        "outputId": "d818d12b-f587-43b8-f453-efa7b4c2011a",
        "colab": {
          "base_uri": "https://localhost:8080/",
          "height": 413
        }
      },
      "execution_count": 62,
      "outputs": [
        {
          "output_type": "execute_result",
          "data": {
            "text/plain": [
              "<Axes: xlabel='Number.of.Engines'>"
            ]
          },
          "metadata": {},
          "execution_count": 62
        },
        {
          "output_type": "display_data",
          "data": {
            "text/plain": [
              "<Figure size 800x400 with 1 Axes>"
            ],
            "image/png": "[encoded data removed]"
          },
          "metadata": {}
        }
      ]
    },
    {
      "cell_type": "code",
      "source": [
        "df['Number.of.Engines'].value_counts()"
      ],
      "metadata": {
        "colab": {
          "base_uri": "https://localhost:8080/",
          "height": 209
        },
        "id": "4uOJNxFRT8t9",
        "outputId": "992fe161-6d6f-477e-a44e-115283a46668"
      },
      "execution_count": 63,
      "outputs": [
        {
          "output_type": "execute_result",
          "data": {
            "text/plain": [
              "Number.of.Engines\n",
              "2.0    120\n",
              "3.0     14\n",
              "4.0      4\n",
              "Name: count, dtype: int64"
            ],
            "text/html": [
              "<div>\n",
              "<style scoped>\n",
              "    .dataframe tbody tr th:only-of-type {\n",
              "        vertical-align: middle;\n",
              "    }\n",
              "\n",
              "    .dataframe tbody tr th {\n",
              "        vertical-align: top;\n",
              "    }\n",
              "\n",
              "    .dataframe thead th {\n",
              "        text-align: right;\n",
              "    }\n",
              "</style>\n",
              "<table border=\"1\" class=\"dataframe\">\n",
              "  <thead>\n",
              "    <tr style=\"text-align: right;\">\n",
              "      <th></th>\n",
              "      <th>count</th>\n",
              "    </tr>\n",
              "    <tr>\n",
              "      <th>Number.of.Engines</th>\n",
              "      <th></th>\n",
              "    </tr>\n",
              "  </thead>\n",
              "  <tbody>\n",
              "    <tr>\n",
              "      <th>2.0</th>\n",
              "      <td>120</td>\n",
              "    </tr>\n",
              "    <tr>\n",
              "      <th>3.0</th>\n",
              "      <td>14</td>\n",
              "    </tr>\n",
              "    <tr>\n",
              "      <th>4.0</th>\n",
              "      <td>4</td>\n",
              "    </tr>\n",
              "  </tbody>\n",
              "</table>\n",
              "</div><br><label><b>dtype:</b> int64</label>"
            ]
          },
          "metadata": {},
          "execution_count": 63
        }
      ]
    },
    {
      "cell_type": "code",
      "source": [
        "# def function(df):\n",
        "#   df['Number.of.Engines'] = df['Number.of.Engines'].apply(lambda x: x if x in [1.0, 2.0] else None)"
      ],
      "metadata": {
        "id": "Dhi2CiJlSdWx"
      },
      "execution_count": 64,
      "outputs": []
    },
    {
      "cell_type": "code",
      "source": [
        "df.groupby(by='Engine.Type')['Total.Fatal.Injuries'].sum().plot(kind='bar', ylabel='Total Fatal Injuries', title='Total-Fatal-Injuries By Engine-Type')"
      ],
      "metadata": {
        "colab": {
          "base_uri": "https://localhost:8080/",
          "height": 554
        },
        "id": "Fd6dPMCpMH6d",
        "outputId": "1732e0df-886b-4723-ff05-650eb224443a"
      },
      "execution_count": 65,
      "outputs": [
        {
          "output_type": "execute_result",
          "data": {
            "text/plain": [
              "<Axes: title={'center': 'Total-Fatal-Injuries By Engine-Type'}, xlabel='Engine.Type', ylabel='Total Fatal Injuries'>"
            ]
          },
          "metadata": {},
          "execution_count": 65
        },
        {
          "output_type": "display_data",
          "data": {
            "text/plain": [
              "<Figure size 640x480 with 1 Axes>"
            ],
            "image/png": "[encoded data removed]"
          },
          "metadata": {}
        }
      ]
    },
    {
      "cell_type": "code",
      "source": [
        "df['Engine.Type'].str.contains('Turbo') & df['Engine.Type'].str.contains('Prop')\n"
      ],
      "metadata": {
        "colab": {
          "base_uri": "https://localhost:8080/",
          "height": 1000
        },
        "id": "g10aP0ZbpkmQ",
        "outputId": "80d39f19-4284-401c-d283-9433fd43074d"
      },
      "execution_count": 67,
      "outputs": [
        {
          "output_type": "execute_result",
          "data": {
            "text/plain": [
              "80       True\n",
              "93       True\n",
              "103      True\n",
              "118      True\n",
              "119      True\n",
              "129      True\n",
              "155      True\n",
              "214      True\n",
              "221      True\n",
              "229      True\n",
              "230      True\n",
              "320      True\n",
              "334      True\n",
              "335      True\n",
              "336      True\n",
              "346      True\n",
              "377      True\n",
              "386      True\n",
              "419      True\n",
              "532      True\n",
              "547      True\n",
              "568      True\n",
              "623      True\n",
              "661      True\n",
              "663      True\n",
              "669      True\n",
              "719      True\n",
              "735      True\n",
              "737      True\n",
              "768      True\n",
              "771      True\n",
              "785      True\n",
              "796      True\n",
              "854      True\n",
              "890      True\n",
              "901      True\n",
              "906      True\n",
              "908      True\n",
              "912      True\n",
              "926      True\n",
              "987      True\n",
              "988      True\n",
              "1087     True\n",
              "1093     True\n",
              "1216     True\n",
              "1245     True\n",
              "1250     True\n",
              "1343     True\n",
              "1360     True\n",
              "1362     True\n",
              "1521     True\n",
              "1581     True\n",
              "1689     True\n",
              "1764     True\n",
              "1833     True\n",
              "1905     True\n",
              "1932     True\n",
              "1969     True\n",
              "2132     True\n",
              "2138     True\n",
              "2252     True\n",
              "2254     True\n",
              "2257     True\n",
              "2335     True\n",
              "2394     True\n",
              "2427     True\n",
              "2451     True\n",
              "2456     True\n",
              "2501     True\n",
              "2598     True\n",
              "2678     True\n",
              "2722     True\n",
              "2739     True\n",
              "2789     True\n",
              "2827     True\n",
              "2838     True\n",
              "2916     True\n",
              "3042     True\n",
              "3054     True\n",
              "3074     True\n",
              "3076     True\n",
              "3141     True\n",
              "3170     True\n",
              "3173     True\n",
              "3199     True\n",
              "3202     True\n",
              "3214     True\n",
              "3251     True\n",
              "3256     True\n",
              "3292     True\n",
              "3296     True\n",
              "3315     True\n",
              "3335     True\n",
              "3374     True\n",
              "3391     True\n",
              "3417     True\n",
              "3423     True\n",
              "3434     True\n",
              "3435     True\n",
              "3436     True\n",
              "3437     True\n",
              "3445     True\n",
              "3454     True\n",
              "3478     True\n",
              "3479     True\n",
              "3488     True\n",
              "3493     True\n",
              "3494     True\n",
              "3526     True\n",
              "3534     True\n",
              "3557     True\n",
              "30062    True\n",
              "36335    True\n",
              "36453    True\n",
              "36872    True\n",
              "40009    True\n",
              "41331    True\n",
              "41366    True\n",
              "44727    True\n",
              "45384    True\n",
              "45860    True\n",
              "46116    True\n",
              "46363    True\n",
              "46624    True\n",
              "47904    True\n",
              "48177    True\n",
              "48252    True\n",
              "48311    True\n",
              "48962    True\n",
              "49557    True\n",
              "58138    True\n",
              "59362    True\n",
              "59584    True\n",
              "62458    True\n",
              "62550    True\n",
              "62673    True\n",
              "63719    True\n",
              "63845    True\n",
              "Name: Engine.Type, dtype: bool"
            ],
            "text/html": [
              "<div>\n",
              "<style scoped>\n",
              "    .dataframe tbody tr th:only-of-type {\n",
              "        vertical-align: middle;\n",
              "    }\n",
              "\n",
              "    .dataframe tbody tr th {\n",
              "        vertical-align: top;\n",
              "    }\n",
              "\n",
              "    .dataframe thead th {\n",
              "        text-align: right;\n",
              "    }\n",
              "</style>\n",
              "<table border=\"1\" class=\"dataframe\">\n",
              "  <thead>\n",
              "    <tr style=\"text-align: right;\">\n",
              "      <th></th>\n",
              "      <th>Engine.Type</th>\n",
              "    </tr>\n",
              "  </thead>\n",
              "  <tbody>\n",
              "    <tr>\n",
              "      <th>80</th>\n",
              "      <td>True</td>\n",
              "    </tr>\n",
              "    <tr>\n",
              "      <th>93</th>\n",
              "      <td>True</td>\n",
              "    </tr>\n",
              "    <tr>\n",
              "      <th>103</th>\n",
              "      <td>True</td>\n",
              "    </tr>\n",
              "    <tr>\n",
              "      <th>118</th>\n",
              "      <td>True</td>\n",
              "    </tr>\n",
              "    <tr>\n",
              "      <th>119</th>\n",
              "      <td>True</td>\n",
              "    </tr>\n",
              "    <tr>\n",
              "      <th>129</th>\n",
              "      <td>True</td>\n",
              "    </tr>\n",
              "    <tr>\n",
              "      <th>155</th>\n",
              "      <td>True</td>\n",
              "    </tr>\n",
              "    <tr>\n",
              "      <th>214</th>\n",
              "      <td>True</td>\n",
              "    </tr>\n",
              "    <tr>\n",
              "      <th>221</th>\n",
              "      <td>True</td>\n",
              "    </tr>\n",
              "    <tr>\n",
              "      <th>229</th>\n",
              "      <td>True</td>\n",
              "    </tr>\n",
              "    <tr>\n",
              "      <th>230</th>\n",
              "      <td>True</td>\n",
              "    </tr>\n",
              "    <tr>\n",
              "      <th>320</th>\n",
              "      <td>True</td>\n",
              "    </tr>\n",
              "    <tr>\n",
              "      <th>334</th>\n",
              "      <td>True</td>\n",
              "    </tr>\n",
              "    <tr>\n",
              "      <th>335</th>\n",
              "      <td>True</td>\n",
              "    </tr>\n",
              "    <tr>\n",
              "      <th>336</th>\n",
              "      <td>True</td>\n",
              "    </tr>\n",
              "    <tr>\n",
              "      <th>346</th>\n",
              "      <td>True</td>\n",
              "    </tr>\n",
              "    <tr>\n",
              "      <th>377</th>\n",
              "      <td>True</td>\n",
              "    </tr>\n",
              "    <tr>\n",
              "      <th>386</th>\n",
              "      <td>True</td>\n",
              "    </tr>\n",
              "    <tr>\n",
              "      <th>419</th>\n",
              "      <td>True</td>\n",
              "    </tr>\n",
              "    <tr>\n",
              "      <th>532</th>\n",
              "      <td>True</td>\n",
              "    </tr>\n",
              "    <tr>\n",
              "      <th>547</th>\n",
              "      <td>True</td>\n",
              "    </tr>\n",
              "    <tr>\n",
              "      <th>568</th>\n",
              "      <td>True</td>\n",
              "    </tr>\n",
              "    <tr>\n",
              "      <th>623</th>\n",
              "      <td>True</td>\n",
              "    </tr>\n",
              "    <tr>\n",
              "      <th>661</th>\n",
              "      <td>True</td>\n",
              "    </tr>\n",
              "    <tr>\n",
              "      <th>663</th>\n",
              "      <td>True</td>\n",
              "    </tr>\n",
              "    <tr>\n",
              "      <th>669</th>\n",
              "      <td>True</td>\n",
              "    </tr>\n",
              "    <tr>\n",
              "      <th>719</th>\n",
              "      <td>True</td>\n",
              "    </tr>\n",
              "    <tr>\n",
              "      <th>735</th>\n",
              "      <td>True</td>\n",
              "    </tr>\n",
              "    <tr>\n",
              "      <th>737</th>\n",
              "      <td>True</td>\n",
              "    </tr>\n",
              "    <tr>\n",
              "      <th>768</th>\n",
              "      <td>True</td>\n",
              "    </tr>\n",
              "    <tr>\n",
              "      <th>771</th>\n",
              "      <td>True</td>\n",
              "    </tr>\n",
              "    <tr>\n",
              "      <th>785</th>\n",
              "      <td>True</td>\n",
              "    </tr>\n",
              "    <tr>\n",
              "      <th>796</th>\n",
              "      <td>True</td>\n",
              "    </tr>\n",
              "    <tr>\n",
              "      <th>854</th>\n",
              "      <td>True</td>\n",
              "    </tr>\n",
              "    <tr>\n",
              "      <th>890</th>\n",
              "      <td>True</td>\n",
              "    </tr>\n",
              "    <tr>\n",
              "      <th>901</th>\n",
              "      <td>True</td>\n",
              "    </tr>\n",
              "    <tr>\n",
              "      <th>906</th>\n",
              "      <td>True</td>\n",
              "    </tr>\n",
              "    <tr>\n",
              "      <th>908</th>\n",
              "      <td>True</td>\n",
              "    </tr>\n",
              "    <tr>\n",
              "      <th>912</th>\n",
              "      <td>True</td>\n",
              "    </tr>\n",
              "    <tr>\n",
              "      <th>926</th>\n",
              "      <td>True</td>\n",
              "    </tr>\n",
              "    <tr>\n",
              "      <th>987</th>\n",
              "      <td>True</td>\n",
              "    </tr>\n",
              "    <tr>\n",
              "      <th>988</th>\n",
              "      <td>True</td>\n",
              "    </tr>\n",
              "    <tr>\n",
              "      <th>1087</th>\n",
              "      <td>True</td>\n",
              "    </tr>\n",
              "    <tr>\n",
              "      <th>1093</th>\n",
              "      <td>True</td>\n",
              "    </tr>\n",
              "    <tr>\n",
              "      <th>1216</th>\n",
              "      <td>True</td>\n",
              "    </tr>\n",
              "    <tr>\n",
              "      <th>1245</th>\n",
              "      <td>True</td>\n",
              "    </tr>\n",
              "    <tr>\n",
              "      <th>1250</th>\n",
              "      <td>True</td>\n",
              "    </tr>\n",
              "    <tr>\n",
              "      <th>1343</th>\n",
              "      <td>True</td>\n",
              "    </tr>\n",
              "    <tr>\n",
              "      <th>1360</th>\n",
              "      <td>True</td>\n",
              "    </tr>\n",
              "    <tr>\n",
              "      <th>1362</th>\n",
              "      <td>True</td>\n",
              "    </tr>\n",
              "    <tr>\n",
              "      <th>1521</th>\n",
              "      <td>True</td>\n",
              "    </tr>\n",
              "    <tr>\n",
              "      <th>1581</th>\n",
              "      <td>True</td>\n",
              "    </tr>\n",
              "    <tr>\n",
              "      <th>1689</th>\n",
              "      <td>True</td>\n",
              "    </tr>\n",
              "    <tr>\n",
              "      <th>1764</th>\n",
              "      <td>True</td>\n",
              "    </tr>\n",
              "    <tr>\n",
              "      <th>1833</th>\n",
              "      <td>True</td>\n",
              "    </tr>\n",
              "    <tr>\n",
              "      <th>1905</th>\n",
              "      <td>True</td>\n",
              "    </tr>\n",
              "    <tr>\n",
              "      <th>1932</th>\n",
              "      <td>True</td>\n",
              "    </tr>\n",
              "    <tr>\n",
              "      <th>1969</th>\n",
              "      <td>True</td>\n",
              "    </tr>\n",
              "    <tr>\n",
              "      <th>2132</th>\n",
              "      <td>True</td>\n",
              "    </tr>\n",
              "    <tr>\n",
              "      <th>2138</th>\n",
              "      <td>True</td>\n",
              "    </tr>\n",
              "    <tr>\n",
              "      <th>2252</th>\n",
              "      <td>True</td>\n",
              "    </tr>\n",
              "    <tr>\n",
              "      <th>2254</th>\n",
              "      <td>True</td>\n",
              "    </tr>\n",
              "    <tr>\n",
              "      <th>2257</th>\n",
              "      <td>True</td>\n",
              "    </tr>\n",
              "    <tr>\n",
              "      <th>2335</th>\n",
              "      <td>True</td>\n",
              "    </tr>\n",
              "    <tr>\n",
              "      <th>2394</th>\n",
              "      <td>True</td>\n",
              "    </tr>\n",
              "    <tr>\n",
              "      <th>2427</th>\n",
              "      <td>True</td>\n",
              "    </tr>\n",
              "    <tr>\n",
              "      <th>2451</th>\n",
              "      <td>True</td>\n",
              "    </tr>\n",
              "    <tr>\n",
              "      <th>2456</th>\n",
              "      <td>True</td>\n",
              "    </tr>\n",
              "    <tr>\n",
              "      <th>2501</th>\n",
              "      <td>True</td>\n",
              "    </tr>\n",
              "    <tr>\n",
              "      <th>2598</th>\n",
              "      <td>True</td>\n",
              "    </tr>\n",
              "    <tr>\n",
              "      <th>2678</th>\n",
              "      <td>True</td>\n",
              "    </tr>\n",
              "    <tr>\n",
              "      <th>2722</th>\n",
              "      <td>True</td>\n",
              "    </tr>\n",
              "    <tr>\n",
              "      <th>2739</th>\n",
              "      <td>True</td>\n",
              "    </tr>\n",
              "    <tr>\n",
              "      <th>2789</th>\n",
              "      <td>True</td>\n",
              "    </tr>\n",
              "    <tr>\n",
              "      <th>2827</th>\n",
              "      <td>True</td>\n",
              "    </tr>\n",
              "    <tr>\n",
              "      <th>2838</th>\n",
              "      <td>True</td>\n",
              "    </tr>\n",
              "    <tr>\n",
              "      <th>2916</th>\n",
              "      <td>True</td>\n",
              "    </tr>\n",
              "    <tr>\n",
              "      <th>3042</th>\n",
              "      <td>True</td>\n",
              "    </tr>\n",
              "    <tr>\n",
              "      <th>3054</th>\n",
              "      <td>True</td>\n",
              "    </tr>\n",
              "    <tr>\n",
              "      <th>3074</th>\n",
              "      <td>True</td>\n",
              "    </tr>\n",
              "    <tr>\n",
              "      <th>3076</th>\n",
              "      <td>True</td>\n",
              "    </tr>\n",
              "    <tr>\n",
              "      <th>3141</th>\n",
              "      <td>True</td>\n",
              "    </tr>\n",
              "    <tr>\n",
              "      <th>3170</th>\n",
              "      <td>True</td>\n",
              "    </tr>\n",
              "    <tr>\n",
              "      <th>3173</th>\n",
              "      <td>True</td>\n",
              "    </tr>\n",
              "    <tr>\n",
              "      <th>3199</th>\n",
              "      <td>True</td>\n",
              "    </tr>\n",
              "    <tr>\n",
              "      <th>3202</th>\n",
              "      <td>True</td>\n",
              "    </tr>\n",
              "    <tr>\n",
              "      <th>3214</th>\n",
              "      <td>True</td>\n",
              "    </tr>\n",
              "    <tr>\n",
              "      <th>3251</th>\n",
              "      <td>True</td>\n",
              "    </tr>\n",
              "    <tr>\n",
              "      <th>3256</th>\n",
              "      <td>True</td>\n",
              "    </tr>\n",
              "    <tr>\n",
              "      <th>3292</th>\n",
              "      <td>True</td>\n",
              "    </tr>\n",
              "    <tr>\n",
              "      <th>3296</th>\n",
              "      <td>True</td>\n",
              "    </tr>\n",
              "    <tr>\n",
              "      <th>3315</th>\n",
              "      <td>True</td>\n",
              "    </tr>\n",
              "    <tr>\n",
              "      <th>3335</th>\n",
              "      <td>True</td>\n",
              "    </tr>\n",
              "    <tr>\n",
              "      <th>3374</th>\n",
              "      <td>True</td>\n",
              "    </tr>\n",
              "    <tr>\n",
              "      <th>3391</th>\n",
              "      <td>True</td>\n",
              "    </tr>\n",
              "    <tr>\n",
              "      <th>3417</th>\n",
              "      <td>True</td>\n",
              "    </tr>\n",
              "    <tr>\n",
              "      <th>3423</th>\n",
              "      <td>True</td>\n",
              "    </tr>\n",
              "    <tr>\n",
              "      <th>3434</th>\n",
              "      <td>True</td>\n",
              "    </tr>\n",
              "    <tr>\n",
              "      <th>3435</th>\n",
              "      <td>True</td>\n",
              "    </tr>\n",
              "    <tr>\n",
              "      <th>3436</th>\n",
              "      <td>True</td>\n",
              "    </tr>\n",
              "    <tr>\n",
              "      <th>3437</th>\n",
              "      <td>True</td>\n",
              "    </tr>\n",
              "    <tr>\n",
              "      <th>3445</th>\n",
              "      <td>True</td>\n",
              "    </tr>\n",
              "    <tr>\n",
              "      <th>3454</th>\n",
              "      <td>True</td>\n",
              "    </tr>\n",
              "    <tr>\n",
              "      <th>3478</th>\n",
              "      <td>True</td>\n",
              "    </tr>\n",
              "    <tr>\n",
              "      <th>3479</th>\n",
              "      <td>True</td>\n",
              "    </tr>\n",
              "    <tr>\n",
              "      <th>3488</th>\n",
              "      <td>True</td>\n",
              "    </tr>\n",
              "    <tr>\n",
              "      <th>3493</th>\n",
              "      <td>True</td>\n",
              "    </tr>\n",
              "    <tr>\n",
              "      <th>3494</th>\n",
              "      <td>True</td>\n",
              "    </tr>\n",
              "    <tr>\n",
              "      <th>3526</th>\n",
              "      <td>True</td>\n",
              "    </tr>\n",
              "    <tr>\n",
              "      <th>3534</th>\n",
              "      <td>True</td>\n",
              "    </tr>\n",
              "    <tr>\n",
              "      <th>3557</th>\n",
              "      <td>True</td>\n",
              "    </tr>\n",
              "    <tr>\n",
              "      <th>30062</th>\n",
              "      <td>True</td>\n",
              "    </tr>\n",
              "    <tr>\n",
              "      <th>36335</th>\n",
              "      <td>True</td>\n",
              "    </tr>\n",
              "    <tr>\n",
              "      <th>36453</th>\n",
              "      <td>True</td>\n",
              "    </tr>\n",
              "    <tr>\n",
              "      <th>36872</th>\n",
              "      <td>True</td>\n",
              "    </tr>\n",
              "    <tr>\n",
              "      <th>40009</th>\n",
              "      <td>True</td>\n",
              "    </tr>\n",
              "    <tr>\n",
              "      <th>41331</th>\n",
              "      <td>True</td>\n",
              "    </tr>\n",
              "    <tr>\n",
              "      <th>41366</th>\n",
              "      <td>True</td>\n",
              "    </tr>\n",
              "    <tr>\n",
              "      <th>44727</th>\n",
              "      <td>True</td>\n",
              "    </tr>\n",
              "    <tr>\n",
              "      <th>45384</th>\n",
              "      <td>True</td>\n",
              "    </tr>\n",
              "    <tr>\n",
              "      <th>45860</th>\n",
              "      <td>True</td>\n",
              "    </tr>\n",
              "    <tr>\n",
              "      <th>46116</th>\n",
              "      <td>True</td>\n",
              "    </tr>\n",
              "    <tr>\n",
              "      <th>46363</th>\n",
              "      <td>True</td>\n",
              "    </tr>\n",
              "    <tr>\n",
              "      <th>46624</th>\n",
              "      <td>True</td>\n",
              "    </tr>\n",
              "    <tr>\n",
              "      <th>47904</th>\n",
              "      <td>True</td>\n",
              "    </tr>\n",
              "    <tr>\n",
              "      <th>48177</th>\n",
              "      <td>True</td>\n",
              "    </tr>\n",
              "    <tr>\n",
              "      <th>48252</th>\n",
              "      <td>True</td>\n",
              "    </tr>\n",
              "    <tr>\n",
              "      <th>48311</th>\n",
              "      <td>True</td>\n",
              "    </tr>\n",
              "    <tr>\n",
              "      <th>48962</th>\n",
              "      <td>True</td>\n",
              "    </tr>\n",
              "    <tr>\n",
              "      <th>49557</th>\n",
              "      <td>True</td>\n",
              "    </tr>\n",
              "    <tr>\n",
              "      <th>58138</th>\n",
              "      <td>True</td>\n",
              "    </tr>\n",
              "    <tr>\n",
              "      <th>59362</th>\n",
              "      <td>True</td>\n",
              "    </tr>\n",
              "    <tr>\n",
              "      <th>59584</th>\n",
              "      <td>True</td>\n",
              "    </tr>\n",
              "    <tr>\n",
              "      <th>62458</th>\n",
              "      <td>True</td>\n",
              "    </tr>\n",
              "    <tr>\n",
              "      <th>62550</th>\n",
              "      <td>True</td>\n",
              "    </tr>\n",
              "    <tr>\n",
              "      <th>62673</th>\n",
              "      <td>True</td>\n",
              "    </tr>\n",
              "    <tr>\n",
              "      <th>63719</th>\n",
              "      <td>True</td>\n",
              "    </tr>\n",
              "    <tr>\n",
              "      <th>63845</th>\n",
              "      <td>True</td>\n",
              "    </tr>\n",
              "  </tbody>\n",
              "</table>\n",
              "</div><br><label><b>dtype:</b> bool</label>"
            ]
          },
          "metadata": {},
          "execution_count": 67
        }
      ]
    },
    {
      "cell_type": "markdown",
      "metadata": {
        "id": "A-J2Dx6rD7oX"
      },
      "source": [
        "# **Conclusion**\n",
        "\n",
        "In summary, the three business recommendations for investors include:\n",
        "\n",
        "   * With regards to number of engines, the data indicates that the following engine types: Turbo fan, Turbo jet, Turbo Prop, and Turbo shaft are associated with the least amount of Fatal injuries.  Based on the Number of Engines graph, turbo jet engine would be the most recommended for safest aircraft.\n",
        "\n",
        "* Discussing number of engines, the safest engine would include 2, 3, or 4 engines. Aircrafts that do not have only one engine show significantly decreased fatal injuries. Multi-engine aircrafts have backup engines if engine failure occurs, which is a significant factor of increased safety.\n",
        "\n",
        "* Lastly, based on the data, Cessna, Piper, Beech, and Boeing are associated with the highest fatal injuries, but this may be due to common frequency of these planes being more generally accepted to use.\n"
      ]
    },
    {
      "cell_type": "markdown",
      "source": [
        "# **Limitations**\n",
        "* Obtained data set did not have full amount of data to provide an improved analysis.  With a full data set, more concise and accurate analysis would lead to better standards of aircraft safety."
      ],
      "metadata": {
        "id": "x3CFRc9nBcId"
      }
    },
    {
      "cell_type": "markdown",
      "source": [
        "# Recommendations\n",
        "* Purchasing an airplane with an engine type of \"Turbo Jet\" or \"Turbo Shaft\" are priority for safety.  Also, multi engine airplanes like Dornier or Dassault/sud would benefit shipment of your cargo and prioritize safety of your employees.  \n"
      ],
      "metadata": {
        "id": "h7db2TxHCxB2"
      }
    },
    {
      "cell_type": "markdown",
      "source": [
        "## Next Steps\n",
        "* Include more complete data sets to obtain improved accuracy on safety standards.\n",
        "* Look into specific prices of multi-engine models for future investors"
      ],
      "metadata": {
        "id": "-U5hlF4xC2Bj"
      }
    }
  ],
  "metadata": {
    "colab": {
      "provenance": [],
      "authorship_tag": "ABX9TyORU6Qpmt5QRHM3Epo0jBwc",
      "include_colab_link": true
    },
    "kernelspec": {
      "display_name": "Python 3",
      "name": "python3"
    },
    "language_info": {
      "name": "python"
    }
  },
  "nbformat": 4,
  "nbformat_minor": 0
}
{
  "nbformat": 4,
  "nbformat_minor": 0,
  "metadata": {
    "colab": {
      "provenance": [],
      "authorship_tag": "ABX9TyNA8xV6qsTk8myLGF/NjmbE"
    },
    "kernelspec": {
      "name": "python3",
      "display_name": "Python 3"
    },
    "language_info": {
      "name": "python"
    }
  },
  "cells": [
    {
      "cell_type": "code",
      "execution_count": null,
      "metadata": {
        "id": "Dg20AlDIRGHI"
      },
      "outputs": [],
      "source": [
        "import pandas as pd\n",
        "import numpy as np\n",
        "import matplotlib.pyplot as plt\n",
        "import seaborn as sns"
      ]
    },
    {
      "cell_type": "code",
      "source": [
        "df = pd.read_csv('https://raw.githubusercontent.com/learn-co-curriculum/dsc-phase-1-project-v3/master/data/Aviation_Data.csv', encoding='latin-1')\n",
        "pd.set_option('display.max_columns', None)"
      ],
      "metadata": {
        "colab": {
          "base_uri": "https://localhost:8080/"
        },
        "id": "cFN9IGS4RNUl",
        "outputId": "d5e6a8d4-0a1a-4773-82e5-ec34a865be28"
      },
      "execution_count": null,
      "outputs": [
        {
          "output_type": "stream",
          "name": "stderr",
          "text": [
            "<ipython-input-2-3e8a288c3897>:1: DtypeWarning: Columns (6,7,28) have mixed types. Specify dtype option on import or set low_memory=False.\n",
            "  df = pd.read_csv('https://raw.githubusercontent.com/learn-co-curriculum/dsc-phase-1-project-v3/master/data/Aviation_Data.csv', encoding='latin-1')\n"
          ]
        }
      ]
    },
    {
      "cell_type": "code",
      "source": [
        "df.head()"
      ],
      "metadata": {
        "colab": {
          "base_uri": "https://localhost:8080/",
          "height": 313
        },
        "id": "5FJyj0vrRXBt",
        "outputId": "18187795-a20b-45c2-fef3-726555e36229"
      },
      "execution_count": null,
      "outputs": [
        {
          "output_type": "execute_result",
          "data": {
            "text/plain": [
              "         Event.Id Investigation.Type Accident.Number  Event.Date  \\\n",
              "0  20001218X45444           Accident      SEA87LA080  1948-10-24   \n",
              "1  20001218X45447           Accident      LAX94LA336  1962-07-19   \n",
              "2  20061025X01555           Accident      NYC07LA005  1974-08-30   \n",
              "3  20001218X45448           Accident      LAX96LA321  1977-06-19   \n",
              "4  20041105X01764           Accident      CHI79FA064  1979-08-02   \n",
              "\n",
              "          Location        Country   Latitude  Longitude Airport.Code  \\\n",
              "0  MOOSE CREEK, ID  United States        NaN        NaN          NaN   \n",
              "1   BRIDGEPORT, CA  United States        NaN        NaN          NaN   \n",
              "2    Saltville, VA  United States  36.922223 -81.878056          NaN   \n",
              "3       EUREKA, CA  United States        NaN        NaN          NaN   \n",
              "4       Canton, OH  United States        NaN        NaN          NaN   \n",
              "\n",
              "  Airport.Name Injury.Severity Aircraft.damage Aircraft.Category  \\\n",
              "0          NaN        Fatal(2)       Destroyed               NaN   \n",
              "1          NaN        Fatal(4)       Destroyed               NaN   \n",
              "2          NaN        Fatal(3)       Destroyed               NaN   \n",
              "3          NaN        Fatal(2)       Destroyed               NaN   \n",
              "4          NaN        Fatal(1)       Destroyed               NaN   \n",
              "\n",
              "  Registration.Number      Make     Model Amateur.Built  Number.of.Engines  \\\n",
              "0              NC6404   Stinson     108-3            No                1.0   \n",
              "1              N5069P     Piper  PA24-180            No                1.0   \n",
              "2              N5142R    Cessna      172M            No                1.0   \n",
              "3              N1168J  Rockwell       112            No                1.0   \n",
              "4               N15NY    Cessna       501            No                NaN   \n",
              "\n",
              "     Engine.Type FAR.Description Schedule Purpose.of.flight Air.carrier  \\\n",
              "0  Reciprocating             NaN      NaN          Personal         NaN   \n",
              "1  Reciprocating             NaN      NaN          Personal         NaN   \n",
              "2  Reciprocating             NaN      NaN          Personal         NaN   \n",
              "3  Reciprocating             NaN      NaN          Personal         NaN   \n",
              "4            NaN             NaN      NaN          Personal         NaN   \n",
              "\n",
              "   Total.Fatal.Injuries  Total.Serious.Injuries  Total.Minor.Injuries  \\\n",
              "0                   2.0                     0.0                   0.0   \n",
              "1                   4.0                     0.0                   0.0   \n",
              "2                   3.0                     NaN                   NaN   \n",
              "3                   2.0                     0.0                   0.0   \n",
              "4                   1.0                     2.0                   NaN   \n",
              "\n",
              "   Total.Uninjured Weather.Condition Broad.phase.of.flight   Report.Status  \\\n",
              "0              0.0               UNK                Cruise  Probable Cause   \n",
              "1              0.0               UNK               Unknown  Probable Cause   \n",
              "2              NaN               IMC                Cruise  Probable Cause   \n",
              "3              0.0               IMC                Cruise  Probable Cause   \n",
              "4              0.0               VMC              Approach  Probable Cause   \n",
              "\n",
              "  Publication.Date  \n",
              "0              NaN  \n",
              "1       19-09-1996  \n",
              "2       26-02-2007  \n",
              "3       12-09-2000  \n",
              "4       16-04-1980  "
            ],
            "text/html": [
              "\n",
              "  <div id=\"df-9853e34f-e758-4b00-865a-86fe87d45239\" class=\"colab-df-container\">\n",
              "    <div>\n",
              "<style scoped>\n",
              "    .dataframe tbody tr th:only-of-type {\n",
              "        vertical-align: middle;\n",
              "    }\n",
              "\n",
              "    .dataframe tbody tr th {\n",
              "        vertical-align: top;\n",
              "    }\n",
              "\n",
              "    .dataframe thead th {\n",
              "        text-align: right;\n",
              "    }\n",
              "</style>\n",
              "<table border=\"1\" class=\"dataframe\">\n",
              "  <thead>\n",
              "    <tr style=\"text-align: right;\">\n",
              "      <th></th>\n",
              "      <th>Event.Id</th>\n",
              "      <th>Investigation.Type</th>\n",
              "      <th>Accident.Number</th>\n",
              "      <th>Event.Date</th>\n",
              "      <th>Location</th>\n",
              "      <th>Country</th>\n",
              "      <th>Latitude</th>\n",
              "      <th>Longitude</th>\n",
              "      <th>Airport.Code</th>\n",
              "      <th>Airport.Name</th>\n",
              "      <th>Injury.Severity</th>\n",
              "      <th>Aircraft.damage</th>\n",
              "      <th>Aircraft.Category</th>\n",
              "      <th>Registration.Number</th>\n",
              "      <th>Make</th>\n",
              "      <th>Model</th>\n",
              "      <th>Amateur.Built</th>\n",
              "      <th>Number.of.Engines</th>\n",
              "      <th>Engine.Type</th>\n",
              "      <th>FAR.Description</th>\n",
              "      <th>Schedule</th>\n",
              "      <th>Purpose.of.flight</th>\n",
              "      <th>Air.carrier</th>\n",
              "      <th>Total.Fatal.Injuries</th>\n",
              "      <th>Total.Serious.Injuries</th>\n",
              "      <th>Total.Minor.Injuries</th>\n",
              "      <th>Total.Uninjured</th>\n",
              "      <th>Weather.Condition</th>\n",
              "      <th>Broad.phase.of.flight</th>\n",
              "      <th>Report.Status</th>\n",
              "      <th>Publication.Date</th>\n",
              "    </tr>\n",
              "  </thead>\n",
              "  <tbody>\n",
              "    <tr>\n",
              "      <th>0</th>\n",
              "      <td>20001218X45444</td>\n",
              "      <td>Accident</td>\n",
              "      <td>SEA87LA080</td>\n",
              "      <td>1948-10-24</td>\n",
              "      <td>MOOSE CREEK, ID</td>\n",
              "      <td>United States</td>\n",
              "      <td>NaN</td>\n",
              "      <td>NaN</td>\n",
              "      <td>NaN</td>\n",
              "      <td>NaN</td>\n",
              "      <td>Fatal(2)</td>\n",
              "      <td>Destroyed</td>\n",
              "      <td>NaN</td>\n",
              "      <td>NC6404</td>\n",
              "      <td>Stinson</td>\n",
              "      <td>108-3</td>\n",
              "      <td>No</td>\n",
              "      <td>1.0</td>\n",
              "      <td>Reciprocating</td>\n",
              "      <td>NaN</td>\n",
              "      <td>NaN</td>\n",
              "      <td>Personal</td>\n",
              "      <td>NaN</td>\n",
              "      <td>2.0</td>\n",
              "      <td>0.0</td>\n",
              "      <td>0.0</td>\n",
              "      <td>0.0</td>\n",
              "      <td>UNK</td>\n",
              "      <td>Cruise</td>\n",
              "      <td>Probable Cause</td>\n",
              "      <td>NaN</td>\n",
              "    </tr>\n",
              "    <tr>\n",
              "      <th>1</th>\n",
              "      <td>20001218X45447</td>\n",
              "      <td>Accident</td>\n",
              "      <td>LAX94LA336</td>\n",
              "      <td>1962-07-19</td>\n",
              "      <td>BRIDGEPORT, CA</td>\n",
              "      <td>United States</td>\n",
              "      <td>NaN</td>\n",
              "      <td>NaN</td>\n",
              "      <td>NaN</td>\n",
              "      <td>NaN</td>\n",
              "      <td>Fatal(4)</td>\n",
              "      <td>Destroyed</td>\n",
              "      <td>NaN</td>\n",
              "      <td>N5069P</td>\n",
              "      <td>Piper</td>\n",
              "      <td>PA24-180</td>\n",
              "      <td>No</td>\n",
              "      <td>1.0</td>\n",
              "      <td>Reciprocating</td>\n",
              "      <td>NaN</td>\n",
              "      <td>NaN</td>\n",
              "      <td>Personal</td>\n",
              "      <td>NaN</td>\n",
              "      <td>4.0</td>\n",
              "      <td>0.0</td>\n",
              "      <td>0.0</td>\n",
              "      <td>0.0</td>\n",
              "      <td>UNK</td>\n",
              "      <td>Unknown</td>\n",
              "      <td>Probable Cause</td>\n",
              "      <td>19-09-1996</td>\n",
              "    </tr>\n",
              "    <tr>\n",
              "      <th>2</th>\n",
              "      <td>20061025X01555</td>\n",
              "      <td>Accident</td>\n",
              "      <td>NYC07LA005</td>\n",
              "      <td>1974-08-30</td>\n",
              "      <td>Saltville, VA</td>\n",
              "      <td>United States</td>\n",
              "      <td>36.922223</td>\n",
              "      <td>-81.878056</td>\n",
              "      <td>NaN</td>\n",
              "      <td>NaN</td>\n",
              "      <td>Fatal(3)</td>\n",
              "      <td>Destroyed</td>\n",
              "      <td>NaN</td>\n",
              "      <td>N5142R</td>\n",
              "      <td>Cessna</td>\n",
              "      <td>172M</td>\n",
              "      <td>No</td>\n",
              "      <td>1.0</td>\n",
              "      <td>Reciprocating</td>\n",
              "      <td>NaN</td>\n",
              "      <td>NaN</td>\n",
              "      <td>Personal</td>\n",
              "      <td>NaN</td>\n",
              "      <td>3.0</td>\n",
              "      <td>NaN</td>\n",
              "      <td>NaN</td>\n",
              "      <td>NaN</td>\n",
              "      <td>IMC</td>\n",
              "      <td>Cruise</td>\n",
              "      <td>Probable Cause</td>\n",
              "      <td>26-02-2007</td>\n",
              "    </tr>\n",
              "    <tr>\n",
              "      <th>3</th>\n",
              "      <td>20001218X45448</td>\n",
              "      <td>Accident</td>\n",
              "      <td>LAX96LA321</td>\n",
              "      <td>1977-06-19</td>\n",
              "      <td>EUREKA, CA</td>\n",
              "      <td>United States</td>\n",
              "      <td>NaN</td>\n",
              "      <td>NaN</td>\n",
              "      <td>NaN</td>\n",
              "      <td>NaN</td>\n",
              "      <td>Fatal(2)</td>\n",
              "      <td>Destroyed</td>\n",
              "      <td>NaN</td>\n",
              "      <td>N1168J</td>\n",
              "      <td>Rockwell</td>\n",
              "      <td>112</td>\n",
              "      <td>No</td>\n",
              "      <td>1.0</td>\n",
              "      <td>Reciprocating</td>\n",
              "      <td>NaN</td>\n",
              "      <td>NaN</td>\n",
              "      <td>Personal</td>\n",
              "      <td>NaN</td>\n",
              "      <td>2.0</td>\n",
              "      <td>0.0</td>\n",
              "      <td>0.0</td>\n",
              "      <td>0.0</td>\n",
              "      <td>IMC</td>\n",
              "      <td>Cruise</td>\n",
              "      <td>Probable Cause</td>\n",
              "      <td>12-09-2000</td>\n",
              "    </tr>\n",
              "    <tr>\n",
              "      <th>4</th>\n",
              "      <td>20041105X01764</td>\n",
              "      <td>Accident</td>\n",
              "      <td>CHI79FA064</td>\n",
              "      <td>1979-08-02</td>\n",
              "      <td>Canton, OH</td>\n",
              "      <td>United States</td>\n",
              "      <td>NaN</td>\n",
              "      <td>NaN</td>\n",
              "      <td>NaN</td>\n",
              "      <td>NaN</td>\n",
              "      <td>Fatal(1)</td>\n",
              "      <td>Destroyed</td>\n",
              "      <td>NaN</td>\n",
              "      <td>N15NY</td>\n",
              "      <td>Cessna</td>\n",
              "      <td>501</td>\n",
              "      <td>No</td>\n",
              "      <td>NaN</td>\n",
              "      <td>NaN</td>\n",
              "      <td>NaN</td>\n",
              "      <td>NaN</td>\n",
              "      <td>Personal</td>\n",
              "      <td>NaN</td>\n",
              "      <td>1.0</td>\n",
              "      <td>2.0</td>\n",
              "      <td>NaN</td>\n",
              "      <td>0.0</td>\n",
              "      <td>VMC</td>\n",
              "      <td>Approach</td>\n",
              "      <td>Probable Cause</td>\n",
              "      <td>16-04-1980</td>\n",
              "    </tr>\n",
              "  </tbody>\n",
              "</table>\n",
              "</div>\n",
              "    <div class=\"colab-df-buttons\">\n",
              "\n",
              "  <div class=\"colab-df-container\">\n",
              "    <button class=\"colab-df-convert\" onclick=\"convertToInteractive('df-9853e34f-e758-4b00-865a-86fe87d45239')\"\n",
              "            title=\"Convert this dataframe to an interactive table.\"\n",
              "            style=\"display:none;\">\n",
              "\n",
              "  <svg xmlns=\"http://www.w3.org/2000/svg\" height=\"24px\" viewBox=\"0 -960 960 960\">\n",
              "    <path d=\"M120-120v-720h720v720H120Zm60-500h600v-160H180v160Zm220 220h160v-160H400v160Zm0 220h160v-160H400v160ZM180-400h160v-160H180v160Zm440 0h160v-160H620v160ZM180-180h160v-160H180v160Zm440 0h160v-160H620v160Z\"/>\n",
              "  </svg>\n",
              "    </button>\n",
              "\n",
              "  <style>\n",
              "    .colab-df-container {\n",
              "      display:flex;\n",
              "      gap: 12px;\n",
              "    }\n",
              "\n",
              "    .colab-df-convert {\n",
              "      background-color: #E8F0FE;\n",
              "      border: none;\n",
              "      border-radius: 50%;\n",
              "      cursor: pointer;\n",
              "      display: none;\n",
              "      fill: #1967D2;\n",
              "      height: 32px;\n",
              "      padding: 0 0 0 0;\n",
              "      width: 32px;\n",
              "    }\n",
              "\n",
              "    .colab-df-convert:hover {\n",
              "      background-color: #E2EBFA;\n",
              "      box-shadow: 0px 1px 2px rgba(60, 64, 67, 0.3), 0px 1px 3px 1px rgba(60, 64, 67, 0.15);\n",
              "      fill: #174EA6;\n",
              "    }\n",
              "\n",
              "    .colab-df-buttons div {\n",
              "      margin-bottom: 4px;\n",
              "    }\n",
              "\n",
              "    [theme=dark] .colab-df-convert {\n",
              "      background-color: #3B4455;\n",
              "      fill: #D2E3FC;\n",
              "    }\n",
              "\n",
              "    [theme=dark] .colab-df-convert:hover {\n",
              "      background-color: #434B5C;\n",
              "      box-shadow: 0px 1px 3px 1px rgba(0, 0, 0, 0.15);\n",
              "      filter: drop-shadow(0px 1px 2px rgba(0, 0, 0, 0.3));\n",
              "      fill: #FFFFFF;\n",
              "    }\n",
              "  </style>\n",
              "\n",
              "    <script>\n",
              "      const buttonEl =\n",
              "        document.querySelector('#df-9853e34f-e758-4b00-865a-86fe87d45239 button.colab-df-convert');\n",
              "      buttonEl.style.display =\n",
              "        google.colab.kernel.accessAllowed ? 'block' : 'none';\n",
              "\n",
              "      async function convertToInteractive(key) {\n",
              "        const element = document.querySelector('#df-9853e34f-e758-4b00-865a-86fe87d45239');\n",
              "        const dataTable =\n",
              "          await google.colab.kernel.invokeFunction('convertToInteractive',\n",
              "                                                    [key], {});\n",
              "        if (!dataTable) return;\n",
              "\n",
              "        const docLinkHtml = 'Like what you see? Visit the ' +\n",
              "          '<a target=\"_blank\" href=https://colab.research.google.com/notebooks/data_table.ipynb>data table notebook</a>'\n",
              "          + ' to learn more about interactive tables.';\n",
              "        element.innerHTML = '';\n",
              "        dataTable['output_type'] = 'display_data';\n",
              "        await google.colab.output.renderOutput(dataTable, element);\n",
              "        const docLink = document.createElement('div');\n",
              "        docLink.innerHTML = docLinkHtml;\n",
              "        element.appendChild(docLink);\n",
              "      }\n",
              "    </script>\n",
              "  </div>\n",
              "\n",
              "\n",
              "<div id=\"df-15604783-cd3b-4087-a2ff-71127d44ccdd\">\n",
              "  <button class=\"colab-df-quickchart\" onclick=\"quickchart('df-15604783-cd3b-4087-a2ff-71127d44ccdd')\"\n",
              "            title=\"Suggest charts\"\n",
              "            style=\"display:none;\">\n",
              "\n",
              "<svg xmlns=\"http://www.w3.org/2000/svg\" height=\"24px\"viewBox=\"0 0 24 24\"\n",
              "     width=\"24px\">\n",
              "    <g>\n",
              "        <path d=\"M19 3H5c-1.1 0-2 .9-2 2v14c0 1.1.9 2 2 2h14c1.1 0 2-.9 2-2V5c0-1.1-.9-2-2-2zM9 17H7v-7h2v7zm4 0h-2V7h2v10zm4 0h-2v-4h2v4z\"/>\n",
              "    </g>\n",
              "</svg>\n",
              "  </button>\n",
              "\n",
              "<style>\n",
              "  .colab-df-quickchart {\n",
              "      --bg-color: #E8F0FE;\n",
              "      --fill-color: #1967D2;\n",
              "      --hover-bg-color: #E2EBFA;\n",
              "      --hover-fill-color: #174EA6;\n",
              "      --disabled-fill-color: #AAA;\n",
              "      --disabled-bg-color: #DDD;\n",
              "  }\n",
              "\n",
              "  [theme=dark] .colab-df-quickchart {\n",
              "      --bg-color: #3B4455;\n",
              "      --fill-color: #D2E3FC;\n",
              "      --hover-bg-color: #434B5C;\n",
              "      --hover-fill-color: #FFFFFF;\n",
              "      --disabled-bg-color: #3B4455;\n",
              "      --disabled-fill-color: #666;\n",
              "  }\n",
              "\n",
              "  .colab-df-quickchart {\n",
              "    background-color: var(--bg-color);\n",
              "    border: none;\n",
              "    border-radius: 50%;\n",
              "    cursor: pointer;\n",
              "    display: none;\n",
              "    fill: var(--fill-color);\n",
              "    height: 32px;\n",
              "    padding: 0;\n",
              "    width: 32px;\n",
              "  }\n",
              "\n",
              "  .colab-df-quickchart:hover {\n",
              "    background-color: var(--hover-bg-color);\n",
              "    box-shadow: 0 1px 2px rgba(60, 64, 67, 0.3), 0 1px 3px 1px rgba(60, 64, 67, 0.15);\n",
              "    fill: var(--button-hover-fill-color);\n",
              "  }\n",
              "\n",
              "  .colab-df-quickchart-complete:disabled,\n",
              "  .colab-df-quickchart-complete:disabled:hover {\n",
              "    background-color: var(--disabled-bg-color);\n",
              "    fill: var(--disabled-fill-color);\n",
              "    box-shadow: none;\n",
              "  }\n",
              "\n",
              "  .colab-df-spinner {\n",
              "    border: 2px solid var(--fill-color);\n",
              "    border-color: transparent;\n",
              "    border-bottom-color: var(--fill-color);\n",
              "    animation:\n",
              "      spin 1s steps(1) infinite;\n",
              "  }\n",
              "\n",
              "  @keyframes spin {\n",
              "    0% {\n",
              "      border-color: transparent;\n",
              "      border-bottom-color: var(--fill-color);\n",
              "      border-left-color: var(--fill-color);\n",
              "    }\n",
              "    20% {\n",
              "      border-color: transparent;\n",
              "      border-left-color: var(--fill-color);\n",
              "      border-top-color: var(--fill-color);\n",
              "    }\n",
              "    30% {\n",
              "      border-color: transparent;\n",
              "      border-left-color: var(--fill-color);\n",
              "      border-top-color: var(--fill-color);\n",
              "      border-right-color: var(--fill-color);\n",
              "    }\n",
              "    40% {\n",
              "      border-color: transparent;\n",
              "      border-right-color: var(--fill-color);\n",
              "      border-top-color: var(--fill-color);\n",
              "    }\n",
              "    60% {\n",
              "      border-color: transparent;\n",
              "      border-right-color: var(--fill-color);\n",
              "    }\n",
              "    80% {\n",
              "      border-color: transparent;\n",
              "      border-right-color: var(--fill-color);\n",
              "      border-bottom-color: var(--fill-color);\n",
              "    }\n",
              "    90% {\n",
              "      border-color: transparent;\n",
              "      border-bottom-color: var(--fill-color);\n",
              "    }\n",
              "  }\n",
              "</style>\n",
              "\n",
              "  <script>\n",
              "    async function quickchart(key) {\n",
              "      const quickchartButtonEl =\n",
              "        document.querySelector('#' + key + ' button');\n",
              "      quickchartButtonEl.disabled = true;  // To prevent multiple clicks.\n",
              "      quickchartButtonEl.classList.add('colab-df-spinner');\n",
              "      try {\n",
              "        const charts = await google.colab.kernel.invokeFunction(\n",
              "            'suggestCharts', [key], {});\n",
              "      } catch (error) {\n",
              "        console.error('Error during call to suggestCharts:', error);\n",
              "      }\n",
              "      quickchartButtonEl.classList.remove('colab-df-spinner');\n",
              "      quickchartButtonEl.classList.add('colab-df-quickchart-complete');\n",
              "    }\n",
              "    (() => {\n",
              "      let quickchartButtonEl =\n",
              "        document.querySelector('#df-15604783-cd3b-4087-a2ff-71127d44ccdd button');\n",
              "      quickchartButtonEl.style.display =\n",
              "        google.colab.kernel.accessAllowed ? 'block' : 'none';\n",
              "    })();\n",
              "  </script>\n",
              "</div>\n",
              "\n",
              "    </div>\n",
              "  </div>\n"
            ],
            "application/vnd.google.colaboratory.intrinsic+json": {
              "type": "dataframe",
              "variable_name": "df"
            }
          },
          "metadata": {},
          "execution_count": 3
        }
      ]
    },
    {
      "cell_type": "code",
      "source": [
        "df.info()\n",
        "# High cardinality = column that has a lot of individual, unique values.\n",
        "# pareto distribution - LOok up. Comes from italian mathemitican, talks about if 100 workers, 10% will be doing most of the work.\n",
        "\n",
        "# Use the qualitative and quantitative information to pinpoint. Example longitude/latitude & Country."
      ],
      "metadata": {
        "id": "DbWhUdxCSCXZ",
        "colab": {
          "base_uri": "https://localhost:8080/"
        },
        "outputId": "84995ca3-2d25-4f7c-f92d-7f8a9c29d469"
      },
      "execution_count": null,
      "outputs": [
        {
          "output_type": "stream",
          "name": "stdout",
          "text": [
            "<class 'pandas.core.frame.DataFrame'>\n",
            "RangeIndex: 90348 entries, 0 to 90347\n",
            "Data columns (total 31 columns):\n",
            " #   Column                  Non-Null Count  Dtype  \n",
            "---  ------                  --------------  -----  \n",
            " 0   Event.Id                88889 non-null  object \n",
            " 1   Investigation.Type      90348 non-null  object \n",
            " 2   Accident.Number         88889 non-null  object \n",
            " 3   Event.Date              88889 non-null  object \n",
            " 4   Location                88837 non-null  object \n",
            " 5   Country                 88663 non-null  object \n",
            " 6   Latitude                34382 non-null  object \n",
            " 7   Longitude               34373 non-null  object \n",
            " 8   Airport.Code            50132 non-null  object \n",
            " 9   Airport.Name            52704 non-null  object \n",
            " 10  Injury.Severity         87889 non-null  object \n",
            " 11  Aircraft.damage         85695 non-null  object \n",
            " 12  Aircraft.Category       32287 non-null  object \n",
            " 13  Registration.Number     87507 non-null  object \n",
            " 14  Make                    88826 non-null  object \n",
            " 15  Model                   88797 non-null  object \n",
            " 16  Amateur.Built           88787 non-null  object \n",
            " 17  Number.of.Engines       82805 non-null  float64\n",
            " 18  Engine.Type             81793 non-null  object \n",
            " 19  FAR.Description         32023 non-null  object \n",
            " 20  Schedule                12582 non-null  object \n",
            " 21  Purpose.of.flight       82697 non-null  object \n",
            " 22  Air.carrier             16648 non-null  object \n",
            " 23  Total.Fatal.Injuries    77488 non-null  float64\n",
            " 24  Total.Serious.Injuries  76379 non-null  float64\n",
            " 25  Total.Minor.Injuries    76956 non-null  float64\n",
            " 26  Total.Uninjured         82977 non-null  float64\n",
            " 27  Weather.Condition       84397 non-null  object \n",
            " 28  Broad.phase.of.flight   61724 non-null  object \n",
            " 29  Report.Status           82505 non-null  object \n",
            " 30  Publication.Date        73659 non-null  object \n",
            "dtypes: float64(5), object(26)\n",
            "memory usage: 21.4+ MB\n"
          ]
        }
      ]
    },
    {
      "cell_type": "code",
      "source": [
        "df['Model'].str.lower().value_counts()\n",
        "# Unreg = unregistered, Unk none = no registration, usaf = U.S. Airforce\n",
        "# dropping this column.\n",
        "# One of the problems is 172 & 172n or 150m and 150 are same models.\n",
        "# This had high cardinality, but distrubtion was non uniform.\n",
        "df['Model'].isnull().sum()"
      ],
      "metadata": {
        "colab": {
          "base_uri": "https://localhost:8080/"
        },
        "id": "fXc2YbWvrKju",
        "outputId": "4becd693-7f2b-41a2-d183-0d6449cf406f"
      },
      "execution_count": null,
      "outputs": [
        {
          "output_type": "execute_result",
          "data": {
            "text/plain": [
              "1551"
            ]
          },
          "metadata": {},
          "execution_count": 5
        }
      ]
    },
    {
      "cell_type": "code",
      "source": [
        "df['Event.Id'].value_counts()"
      ],
      "metadata": {
        "colab": {
          "base_uri": "https://localhost:8080/"
        },
        "id": "t8MmroPXvdz1",
        "outputId": "b28c0453-cc78-4a11-ae9a-fd951a9e6f65"
      },
      "execution_count": null,
      "outputs": [
        {
          "output_type": "execute_result",
          "data": {
            "text/plain": [
              "Event.Id\n",
              "20001212X19172    3\n",
              "20001214X45071    3\n",
              "20220730105623    2\n",
              "20051213X01965    2\n",
              "20001212X16765    2\n",
              "                 ..\n",
              "20001211X14216    1\n",
              "20001211X14239    1\n",
              "20001211X14207    1\n",
              "20001211X14204    1\n",
              "20221230106513    1\n",
              "Name: count, Length: 87951, dtype: int64"
            ]
          },
          "metadata": {},
          "execution_count": 6
        }
      ]
    },
    {
      "cell_type": "code",
      "source": [
        "df['Airport.Code'].info()"
      ],
      "metadata": {
        "colab": {
          "base_uri": "https://localhost:8080/"
        },
        "id": "VlAsWFQJEK3N",
        "outputId": "a6120a7f-a642-4a51-cfd2-652f0cc8002a"
      },
      "execution_count": null,
      "outputs": [
        {
          "output_type": "stream",
          "name": "stdout",
          "text": [
            "<class 'pandas.core.series.Series'>\n",
            "RangeIndex: 90348 entries, 0 to 90347\n",
            "Series name: Airport.Code\n",
            "Non-Null Count  Dtype \n",
            "--------------  ----- \n",
            "50132 non-null  object\n",
            "dtypes: object(1)\n",
            "memory usage: 706.0+ KB\n"
          ]
        }
      ]
    },
    {
      "cell_type": "code",
      "source": [
        "df['Airport.Code'].isna().sum()"
      ],
      "metadata": {
        "colab": {
          "base_uri": "https://localhost:8080/"
        },
        "id": "-vnd_ehUEaGK",
        "outputId": "a6abf277-f590-4f3c-aa07-2d7aecf6206f"
      },
      "execution_count": null,
      "outputs": [
        {
          "output_type": "execute_result",
          "data": {
            "text/plain": [
              "40216"
            ]
          },
          "metadata": {},
          "execution_count": 8
        }
      ]
    },
    {
      "cell_type": "code",
      "source": [
        "df.drop(columns =['Airport.Code'], inplace=True)"
      ],
      "metadata": {
        "id": "DNn-q_pUF2Tk"
      },
      "execution_count": null,
      "outputs": []
    },
    {
      "cell_type": "code",
      "source": [
        "df['Investigation.Type'].value_counts()"
      ],
      "metadata": {
        "colab": {
          "base_uri": "https://localhost:8080/"
        },
        "id": "uXPFuPJJGhxw",
        "outputId": "8a82b0a4-8fcb-4e7f-dd0f-08327f1c6acf"
      },
      "execution_count": null,
      "outputs": [
        {
          "output_type": "execute_result",
          "data": {
            "text/plain": [
              "Investigation.Type\n",
              "Accident      85015\n",
              "Incident       3874\n",
              "25-09-2020      702\n",
              "26-09-2020       60\n",
              "02-02-2021       39\n",
              "              ...  \n",
              "13-09-2021        1\n",
              "04-08-2021        1\n",
              "05-08-2022        1\n",
              "03-11-2020        1\n",
              "06-01-2021        1\n",
              "Name: count, Length: 71, dtype: int64"
            ]
          },
          "metadata": {},
          "execution_count": 10
        }
      ]
    },
    {
      "cell_type": "code",
      "source": [
        "df['Investigation.Type'].isna().sum()"
      ],
      "metadata": {
        "colab": {
          "base_uri": "https://localhost:8080/"
        },
        "id": "3Z4NZ3OQGWzj",
        "outputId": "790847d4-295c-4d75-b119-322bcb9e24f9"
      },
      "execution_count": null,
      "outputs": [
        {
          "output_type": "execute_result",
          "data": {
            "text/plain": [
              "0"
            ]
          },
          "metadata": {},
          "execution_count": 12
        }
      ]
    },
    {
      "cell_type": "code",
      "source": [
        "df['Event.Id'].info()"
      ],
      "metadata": {
        "colab": {
          "base_uri": "https://localhost:8080/"
        },
        "id": "f-V2te0r1hAD",
        "outputId": "e3a1ae43-1c64-4d43-f478-5a71f4e19e08"
      },
      "execution_count": null,
      "outputs": [
        {
          "output_type": "stream",
          "name": "stdout",
          "text": [
            "<class 'pandas.core.series.Series'>\n",
            "RangeIndex: 90348 entries, 0 to 90347\n",
            "Series name: Event.Id\n",
            "Non-Null Count  Dtype \n",
            "--------------  ----- \n",
            "88889 non-null  object\n",
            "dtypes: object(1)\n",
            "memory usage: 706.0+ KB\n"
          ]
        }
      ]
    },
    {
      "cell_type": "code",
      "source": [
        "df['Event.Id'].isna().sum() # resembles 1459 null rows"
      ],
      "metadata": {
        "colab": {
          "base_uri": "https://localhost:8080/"
        },
        "id": "CR-fXpBp08uK",
        "outputId": "c0d75681-817c-418b-b328-6a735e925ca7"
      },
      "execution_count": null,
      "outputs": [
        {
          "output_type": "execute_result",
          "data": {
            "text/plain": [
              "1459"
            ]
          },
          "metadata": {},
          "execution_count": 14
        }
      ]
    },
    {
      "cell_type": "code",
      "source": [
        "df['Model'].info()"
      ],
      "metadata": {
        "colab": {
          "base_uri": "https://localhost:8080/"
        },
        "id": "sORP8SdW_9M-",
        "outputId": "c4b13dfe-b31d-4654-822a-8d3fddacef86"
      },
      "execution_count": null,
      "outputs": [
        {
          "output_type": "stream",
          "name": "stdout",
          "text": [
            "<class 'pandas.core.series.Series'>\n",
            "RangeIndex: 90348 entries, 0 to 90347\n",
            "Series name: Model\n",
            "Non-Null Count  Dtype \n",
            "--------------  ----- \n",
            "88797 non-null  object\n",
            "dtypes: object(1)\n",
            "memory usage: 706.0+ KB\n"
          ]
        }
      ]
    },
    {
      "cell_type": "code",
      "source": [
        "df['Investigation.Type'].value_counts()"
      ],
      "metadata": {
        "colab": {
          "base_uri": "https://localhost:8080/"
        },
        "id": "n2MYZELw4Rnm",
        "outputId": "074e64ac-d73b-47b1-d255-304122a61db2"
      },
      "execution_count": null,
      "outputs": [
        {
          "output_type": "execute_result",
          "data": {
            "text/plain": [
              "Investigation.Type\n",
              "Accident      85015\n",
              "Incident       3874\n",
              "25-09-2020      702\n",
              "26-09-2020       60\n",
              "02-02-2021       39\n",
              "              ...  \n",
              "13-09-2021        1\n",
              "04-08-2021        1\n",
              "05-08-2022        1\n",
              "03-11-2020        1\n",
              "06-01-2021        1\n",
              "Name: count, Length: 71, dtype: int64"
            ]
          },
          "metadata": {},
          "execution_count": 17
        }
      ]
    },
    {
      "cell_type": "code",
      "source": [
        "df['Investigation.Type'].isna().sum()\n",
        "# 0 null values."
      ],
      "metadata": {
        "colab": {
          "base_uri": "https://localhost:8080/"
        },
        "id": "eO0GW3Bu4uSR",
        "outputId": "3a45f6eb-7662-4ecd-8b6e-7f4d76293a0b"
      },
      "execution_count": null,
      "outputs": [
        {
          "output_type": "execute_result",
          "data": {
            "text/plain": [
              "0"
            ]
          },
          "metadata": {},
          "execution_count": 18
        }
      ]
    },
    {
      "cell_type": "code",
      "source": [
        "df['Accident.Number'].value_counts()"
      ],
      "metadata": {
        "colab": {
          "base_uri": "https://localhost:8080/"
        },
        "id": "-unj2_f67vmZ",
        "outputId": "8fd3ec56-ed49-4c90-8e6a-03253af3e745"
      },
      "execution_count": null,
      "outputs": [
        {
          "output_type": "execute_result",
          "data": {
            "text/plain": [
              "Accident.Number\n",
              "CEN22LA149    2\n",
              "WPR23LA041    2\n",
              "WPR23LA045    2\n",
              "DCA22WA214    2\n",
              "DCA22WA089    2\n",
              "             ..\n",
              "LAX92FA065    1\n",
              "ANC92T#A12    1\n",
              "MIA92LA049    1\n",
              "NYC92LA048    1\n",
              "ERA23LA097    1\n",
              "Name: count, Length: 88863, dtype: int64"
            ]
          },
          "metadata": {},
          "execution_count": 19
        }
      ]
    },
    {
      "cell_type": "code",
      "source": [
        "df['Accident.Number'].isna().sum()"
      ],
      "metadata": {
        "colab": {
          "base_uri": "https://localhost:8080/"
        },
        "id": "xfHEN2eC8SIM",
        "outputId": "602c21b3-0447-4e03-f3d7-f89f5a73c2d3"
      },
      "execution_count": null,
      "outputs": [
        {
          "output_type": "execute_result",
          "data": {
            "text/plain": [
              "1459"
            ]
          },
          "metadata": {},
          "execution_count": 20
        }
      ]
    },
    {
      "cell_type": "code",
      "source": [
        "df['Broad.phase.of.flight'].str.lower().value_counts()\n",
        "# Might drop \"unknown\" and \"other\" rows due to not being able to do anything with these.\n",
        "# Has low cardinality. Non uniformally distributed.\n",
        "# OTHER & UNKNKOWN ROWS HAVE BEEN DROPPED!\n"
      ],
      "metadata": {
        "colab": {
          "base_uri": "https://localhost:8080/"
        },
        "id": "jPVtJ3kKxAXj",
        "outputId": "3ddd9a09-ed4e-4d82-bd32-c1c8fb676362"
      },
      "execution_count": null,
      "outputs": [
        {
          "output_type": "execute_result",
          "data": {
            "text/plain": [
              "Broad.phase.of.flight\n",
              "landing        15428\n",
              "takeoff        12493\n",
              "cruise         10269\n",
              "maneuvering     8144\n",
              "approach        6546\n",
              "climb           2034\n",
              "taxi            1958\n",
              "descent         1887\n",
              "go-around       1353\n",
              "standing         945\n",
              "unknown          548\n",
              "other            119\n",
              "Name: count, dtype: int64"
            ]
          },
          "metadata": {},
          "execution_count": 21
        }
      ]
    },
    {
      "cell_type": "code",
      "source": [
        "df['Accident.Number'].info()"
      ],
      "metadata": {
        "colab": {
          "base_uri": "https://localhost:8080/"
        },
        "id": "ghdHf73q8YOH",
        "outputId": "20d5a87e-4d02-4259-85c7-ff248329f79a"
      },
      "execution_count": null,
      "outputs": [
        {
          "output_type": "stream",
          "name": "stdout",
          "text": [
            "<class 'pandas.core.series.Series'>\n",
            "RangeIndex: 90348 entries, 0 to 90347\n",
            "Series name: Accident.Number\n",
            "Non-Null Count  Dtype \n",
            "--------------  ----- \n",
            "88889 non-null  object\n",
            "dtypes: object(1)\n",
            "memory usage: 706.0+ KB\n"
          ]
        }
      ]
    },
    {
      "cell_type": "markdown",
      "source": [],
      "metadata": {
        "id": "_6BkY-OyLrUv"
      }
    },
    {
      "cell_type": "code",
      "source": [
        "df.drop(df[df['Broad.phase.of.flight'] == 'Other'].index, inplace=True)\n",
        "df.drop(df[df['Broad.phase.of.flight'] == 'Unknown'].index, inplace=True)\n",
        "# DROPPED OTHER & UNKNOWN ROWS HERE"
      ],
      "metadata": {
        "id": "PjrXDVJHHEAE"
      },
      "execution_count": null,
      "outputs": []
    },
    {
      "cell_type": "code",
      "source": [
        "df['Broad.phase.of.flight'].unique()"
      ],
      "metadata": {
        "colab": {
          "base_uri": "https://localhost:8080/"
        },
        "id": "ots49BrzMKUG",
        "outputId": "a8d26cf2-eb0d-44f2-c5ed-4e7c3ae579b5"
      },
      "execution_count": null,
      "outputs": [
        {
          "output_type": "execute_result",
          "data": {
            "text/plain": [
              "array(['Cruise', 'Approach', 'Climb', 'Takeoff', 'Landing', 'Taxi',\n",
              "       'Descent', 'Maneuvering', 'Standing', 'Go-around', nan],\n",
              "      dtype=object)"
            ]
          },
          "metadata": {},
          "execution_count": 24
        }
      ]
    },
    {
      "cell_type": "code",
      "source": [
        "df['Broad.phase.of.flight'].value_counts()"
      ],
      "metadata": {
        "colab": {
          "base_uri": "https://localhost:8080/"
        },
        "id": "eOoUCalcIhBk",
        "outputId": "3cbddc88-cb83-44ee-805e-c351e15b86a5"
      },
      "execution_count": null,
      "outputs": [
        {
          "output_type": "execute_result",
          "data": {
            "text/plain": [
              "Broad.phase.of.flight\n",
              "Landing        15428\n",
              "Takeoff        12493\n",
              "Cruise         10269\n",
              "Maneuvering     8144\n",
              "Approach        6546\n",
              "Climb           2034\n",
              "Taxi            1958\n",
              "Descent         1887\n",
              "Go-around       1353\n",
              "Standing         945\n",
              "Name: count, dtype: int64"
            ]
          },
          "metadata": {},
          "execution_count": 25
        }
      ]
    },
    {
      "cell_type": "code",
      "source": [],
      "metadata": {
        "id": "NQNazGXo7sz6"
      },
      "execution_count": null,
      "outputs": []
    },
    {
      "cell_type": "code",
      "source": [
        "df.describe()\n",
        "# High cardinality = less useful, gives us less apparent groups.\n",
        "# If cessna is in a lot of accidents, it's becuase they're used more. They represent 1/3 of the dataset.\n",
        "# If it's low\n",
        "cardinlity, the distribution doesn't matter much. Able to use.\n",
        "# do"
      ],
      "metadata": {
        "colab": {
          "base_uri": "https://localhost:8080/",
          "height": 108
        },
        "id": "JreyTD34t1e4",
        "outputId": "6f241f9e-92f9-4084-dc65-31cb79845065"
      },
      "execution_count": null,
      "outputs": [
        {
          "output_type": "error",
          "ename": "SyntaxError",
          "evalue": "unterminated string literal (detected at line 5) (<ipython-input-26-54882063a61a>, line 5)",
          "traceback": [
            "\u001b[0;36m  File \u001b[0;32m\"<ipython-input-26-54882063a61a>\"\u001b[0;36m, line \u001b[0;32m5\u001b[0m\n\u001b[0;31m    cardinlity, the distribution doesn't matter much. Able to use.\u001b[0m\n\u001b[0m                                      ^\u001b[0m\n\u001b[0;31mSyntaxError\u001b[0m\u001b[0;31m:\u001b[0m unterminated string literal (detected at line 5)\n"
          ]
        }
      ]
    },
    {
      "cell_type": "code",
      "source": [],
      "metadata": {
        "id": "1STvBaYbtbAi"
      },
      "execution_count": null,
      "outputs": []
    },
    {
      "cell_type": "code",
      "source": [
        "df['Model'].isna().sum()"
      ],
      "metadata": {
        "id": "eqJ3Ji_RsuAm"
      },
      "execution_count": null,
      "outputs": []
    },
    {
      "cell_type": "code",
      "source": [
        "df['Location']"
      ],
      "metadata": {
        "id": "ytewaRPy467H"
      },
      "execution_count": null,
      "outputs": []
    },
    {
      "cell_type": "code",
      "source": [
        "df['Make']"
      ],
      "metadata": {
        "id": "OvgTKNoWs2IG"
      },
      "execution_count": null,
      "outputs": []
    },
    {
      "cell_type": "code",
      "source": [
        "df.isnull().sum()"
      ],
      "metadata": {
        "id": "Xzi_CGcsvAWL"
      },
      "execution_count": null,
      "outputs": []
    },
    {
      "cell_type": "code",
      "source": [],
      "metadata": {
        "id": "makOwQWHp81f"
      },
      "execution_count": null,
      "outputs": []
    },
    {
      "cell_type": "code",
      "source": [
        "df['Injury.Severity'].mode()\n",
        "# Be careful with filling null values with the mode, might be adding noise to your data. Especially Categorical data, just remove values.\n",
        "# if missing more than half the values, drop the column."
      ],
      "metadata": {
        "id": "1Jz188octuIk"
      },
      "execution_count": null,
      "outputs": []
    },
    {
      "cell_type": "code",
      "source": [
        "df['Injury.Severity'].isna().sum()"
      ],
      "metadata": {
        "id": "C5SpWfLv8-3o"
      },
      "execution_count": null,
      "outputs": []
    },
    {
      "cell_type": "code",
      "source": [
        "df['Injury.Severity'].value_counts()"
      ],
      "metadata": {
        "id": "0LrZkG1mwiO8"
      },
      "execution_count": null,
      "outputs": []
    },
    {
      "cell_type": "code",
      "source": [
        "df['Make'].unique()"
      ],
      "metadata": {
        "id": "vcbuoEhYw0sI"
      },
      "execution_count": null,
      "outputs": []
    },
    {
      "cell_type": "code",
      "source": [
        "df['Make'].value_counts()\n",
        "# This is an example of High Cardinality"
      ],
      "metadata": {
        "id": "DZnD8eZ_ErtC"
      },
      "execution_count": null,
      "outputs": []
    },
    {
      "cell_type": "code",
      "source": [
        "df['Make'].mode()"
      ],
      "metadata": {
        "id": "tyNQXfZ8FFUc"
      },
      "execution_count": null,
      "outputs": []
    },
    {
      "cell_type": "code",
      "source": [
        "df['Event.Id'].info()\n",
        "# not worth to drop."
      ],
      "metadata": {
        "id": "NejHGgGjHe-m"
      },
      "execution_count": null,
      "outputs": []
    },
    {
      "cell_type": "code",
      "source": [
        "df['Event.Id'].isna().sum()"
      ],
      "metadata": {
        "id": "FtTxXJ0Fv-hX"
      },
      "execution_count": null,
      "outputs": []
    },
    {
      "cell_type": "code",
      "source": [
        "df['Event.Id'].value_counts()\n",
        "# High cardinality bruhh"
      ],
      "metadata": {
        "id": "DMwLShOVEjqm"
      },
      "execution_count": null,
      "outputs": []
    },
    {
      "cell_type": "code",
      "source": [
        "df['Report.Status'].value_counts()\n",
        "# Also has high amount of unique values, able to be possibly dropped. Check for null values."
      ],
      "metadata": {
        "id": "Kc7oamBwIHkT"
      },
      "execution_count": null,
      "outputs": []
    },
    {
      "cell_type": "code",
      "source": [
        "df['FAR.Description'].isna().sum()"
      ],
      "metadata": {
        "id": "p-9WVquoIXZ2"
      },
      "execution_count": null,
      "outputs": []
    },
    {
      "cell_type": "code",
      "source": [
        "df['FAR.Description'].info()"
      ],
      "metadata": {
        "id": "Bawuk4JnHWKi"
      },
      "execution_count": null,
      "outputs": []
    },
    {
      "cell_type": "code",
      "source": [
        "df.drop(columns =['FAR.Description'], inplace=True) # dropped here."
      ],
      "metadata": {
        "id": "51Gsk8iGEGY5"
      },
      "execution_count": null,
      "outputs": []
    },
    {
      "cell_type": "markdown",
      "source": [],
      "metadata": {
        "id": "W5BidMs9Dtvn"
      }
    },
    {
      "cell_type": "code",
      "source": [
        "df['Aircraft.Category'].unique()"
      ],
      "metadata": {
        "id": "IR6MzTcYBlCz"
      },
      "execution_count": null,
      "outputs": []
    },
    {
      "cell_type": "code",
      "source": [
        "df['Aircraft.Category'].isna().sum()"
      ],
      "metadata": {
        "id": "agCPmezgEMGU"
      },
      "execution_count": null,
      "outputs": []
    },
    {
      "cell_type": "code",
      "source": [
        "df['Aircraft.Category'].info()\n",
        "# Only 35% of null value rows, not worth dropping. Most likely significant to data problem as well."
      ],
      "metadata": {
        "id": "FzjGrKCXEfdR"
      },
      "execution_count": null,
      "outputs": []
    },
    {
      "cell_type": "code",
      "source": [
        "df['Publication.Date'].value_counts()"
      ],
      "metadata": {
        "id": "dOuehqQrEn1e"
      },
      "execution_count": null,
      "outputs": []
    },
    {
      "cell_type": "code",
      "source": [
        "df['Schedule'].value_counts()"
      ],
      "metadata": {
        "id": "c1tH7MuxQf0H"
      },
      "execution_count": null,
      "outputs": []
    },
    {
      "cell_type": "code",
      "source": [],
      "metadata": {
        "id": "PKswDVsvQ6YL"
      },
      "execution_count": null,
      "outputs": []
    }
  ]
}